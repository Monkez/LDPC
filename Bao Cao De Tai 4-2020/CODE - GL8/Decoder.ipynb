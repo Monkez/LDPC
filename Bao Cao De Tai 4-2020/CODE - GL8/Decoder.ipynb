{
 "cells": [
  {
   "cell_type": "code",
   "execution_count": 1,
   "metadata": {
    "ExecuteTime": {
     "end_time": "2020-05-11T12:59:52.620801Z",
     "start_time": "2020-05-11T12:59:51.819896Z"
    },
    "code_folding": [
     1,
     203,
     218,
     225,
     231,
     237,
     250,
     255,
     261
    ]
   },
   "outputs": [
    {
     "name": "stdout",
     "output_type": "stream",
     "text": [
      "['000' '001' '010' '100' '011' '110' '111' '101']\n"
     ]
    }
   ],
   "source": [
    "import numpy as np\n",
    "def showarray(a, fmt='png'):\n",
    "    a = np.uint8(a)\n",
    "    f = StringIO()\n",
    "    PIL.Image.fromarray(a).save(f, fmt)\n",
    "    IPython.display.display(IPython.display.Image(data=f.getvalue()))\n",
    "class GF():\n",
    "    def __init__(self, f):\n",
    "        Max = np.max(f)\n",
    "        f2 = np.zeros(Max+1, np.uint8)\n",
    "        f2[f] = 1\n",
    "        f = np.flip(f2)\n",
    "        self.len_of_symbol = Max\n",
    "        self.q = 2**self.len_of_symbol\n",
    "        self.table = np.array(self.make_code_table(f))\n",
    "        \n",
    "    def sub_matrix(self, A, i, j):\n",
    "        A1 = np.delete(A, i, 0)\n",
    "        A2 = np.delete(A1, j, 1)\n",
    "        return A2\n",
    "\n",
    "    def det(self, A):\n",
    "        size = A.shape\n",
    "        if size[0]==2 and size[1]==2:\n",
    "            d = self.add(self.multi(A[0, 0],A[1, 1]), self.multi(A[1, 0],A[0, 1]))\n",
    "            return d\n",
    "        else:\n",
    "            d = 0\n",
    "            for i in range(size[0]):\n",
    "                d=self.add(self.multi(A[0, i],self.det(self.sub_matrix(A, 0, i))), d)\n",
    "            return d\n",
    "        \n",
    "    def make_code_table(self, f):\n",
    "        m = len(f)-1\n",
    "        N = 2**m\n",
    "        table = [\"0\"*m]\n",
    "        x =\"\"\n",
    "        for i in range(1,m+1):\n",
    "            if f[i]==0:\n",
    "                x+=\"0\"\n",
    "            else:\n",
    "                x+=\"1\"\n",
    "        for i in range(0, m):\n",
    "            c=\"0\"*m\n",
    "            c = c[0:i] + \"1\"+c[i+1:]\n",
    "            c = c[::-1]\n",
    "            table.append(c)\n",
    "        for i in range(m+1, N):\n",
    "            a = table[-1]\n",
    "            a1 = a[1:]+\"0\"\n",
    "            b = \"0\"*m\n",
    "            if a[0]==\"1\":\n",
    "                b = x\n",
    "            c = self.add_string_code(a1, b)\n",
    "            table.append(c)\n",
    "        return table\n",
    "\n",
    "    def add_string_code(self, a, b):\n",
    "        c =\"\"\n",
    "        for i in range(self.len_of_symbol):\n",
    "            if a[i]!= b[i] :\n",
    "                c+=\"1\"\n",
    "            else:\n",
    "                c+=\"0\"\n",
    "        return c\n",
    "    def add(self, a, b):\n",
    "        if  np.isscalar(a) and  np.isscalar(b):\n",
    "            a= int(a)\n",
    "            b = int(b)\n",
    "            a1 = self.table[a]\n",
    "            b1 = self.table[b]\n",
    "            c1 = self.add_string_code(a1, b1)\n",
    "            c, = np.where(self.table == c1)\n",
    "            return c[0]\n",
    "        elif not np.isscalar(a):\n",
    "            if np.isscalar(b):\n",
    "                raise ValueError(\"a, b must have same shape ( a:\",a.shape,\", b is scalar)\" )\n",
    "            else:\n",
    "                a_size = a.shape\n",
    "                b_size = b.shape\n",
    "                if  len(a_size) ==2 and  len(a_size)==2:\n",
    "                    if a_size[0] != b_size[0] or a_size[1] != b_size[1] :\n",
    "                        raise ValueError(\"a, b must have same shape ( a:\"+ str(a.shape) +\",  b:\"+str(b.shape)+ \")\" )\n",
    "                    else:\n",
    "                        c = np.zeros_like(a, np.uint8)\n",
    "                        for i in range(a_size[0]):\n",
    "                            for j in range(a_size[1]):\n",
    "                                c[i, j] = self.add(a[i, j], b[i, j])\n",
    "                        return c\n",
    "                elif len(a_size)==1 and len(b_size)==1 and a_size ==b_size :\n",
    "                    c = np.zeros_like(a, np.uint8)\n",
    "                    for i in range(a_size[0]):\n",
    "                        c[i] = self.add(a[i], b[i])\n",
    "                    return c\n",
    "                else:\n",
    "                    raise ValueError(\"a, b must have same shape ( a:\"+ str(a.shape) +\",  b:\"+str(b.shape)+ \")\" )         \n",
    "    def multi(self, a, b):\n",
    "        if  np.isscalar(a) and  np.isscalar(b):\n",
    "                if a ==0 or b == 0:\n",
    "                    return 0\n",
    "                else:\n",
    "                    c = (a+b-2) % (self.q-1)\n",
    "                    return c+1\n",
    "        elif not np.isscalar(a):\n",
    "            a_size = a.shape\n",
    "            if np.isscalar(b):\n",
    "                c = [self.multi(i, b) for i in a]\n",
    "                return np.array(c)\n",
    "            b_size = b.shape\n",
    "            if a_size[1] != b_size[0] :\n",
    "                raise ValueError(\"Can not multiply 2 matrix of dimension: \", a.shape, b.shape)\n",
    "            else:\n",
    "                c = np.zeros((a_size[0], b_size[1]), np.uint8)\n",
    "                for i in range(a_size[0]):\n",
    "                    for j in range(b_size[1]):\n",
    "                        for k in range(a_size[1]):\n",
    "                            c[i, j] =self.add(c[i, j], self.multi(a[i, k], b[k, j])) \n",
    "                return c\n",
    "    def make_sub_matrix(self, x):\n",
    "        N =  N = self.q -1\n",
    "        sub = np.zeros((N, N), np.uint8)\n",
    "        index = x-1\n",
    "        for i in range(N):\n",
    "            sub[i, index] = index+1\n",
    "            index +=1\n",
    "            if index ==N:\n",
    "                index =0\n",
    "        return sub\n",
    "    def reserve_e(self, a):\n",
    "            a2 = self.q+1-a\n",
    "            if a2 == self.q:\n",
    "                a2 = 1\n",
    "            if a2 == self.q+1:\n",
    "                a2 = 0\n",
    "            return a2\n",
    "    def Reserve(self, X, show =False):\n",
    "        N = X.shape[0]\n",
    "        def make_I(n):\n",
    "                In = np.zeros((n, n), np.uint8)\n",
    "                for i in range(n):\n",
    "                    In[i, i] =1\n",
    "                return In\n",
    "        X1 = make_I(N)\n",
    "        for i in range(N):\n",
    "            if show:\n",
    "                print(i)\n",
    "            C = make_I(N)\n",
    "            for j in range(N):\n",
    "                C[j, i] = self.multi(X[j, i], self.reserve_e(X[i,i]))\n",
    "            C[i,i] = self.reserve_e(X[i,i])\n",
    "            X = self.multi(C,X)\n",
    "            X1 = self.multi(C,X1)\n",
    "        return X1\n",
    "    \n",
    "import numpy as np\n",
    "from scipy.special import erfc\n",
    "\n",
    "def S2B(symbol, table):\n",
    "    b = table[symbol]\n",
    "    B = np.array(list(b)).astype(np.float32)\n",
    "    return B\n",
    "\n",
    "def probB(x, N0):\n",
    "    d1 = abs(-1-x)\n",
    "    d2 = abs(1-x)\n",
    "    p0 = np.e**(-d1/N0)/(np.e**(-d1/N0)+np.e**(-d2/N0))\n",
    "    p1 = 1-p0\n",
    "    return [p0, p1]\n",
    "\n",
    "def probS(S, N0, q, table, M):\n",
    "    B = np.zeros((q, 2))\n",
    "    for i in range(q):\n",
    "        B[i] = probB(S[i], N0)\n",
    "    P = np.zeros(M)\n",
    "    for i in range(M):\n",
    "        Bi = S2B(i, table)\n",
    "        p = 1\n",
    "        for j in range(q):\n",
    "            p *=B[j, int(Bi[j])]\n",
    "        P[i] = p\n",
    "    m = np.max(P)\n",
    "    P = np.log10(m/P)\n",
    "    P[P>2]=2\n",
    "    return P\n",
    "\n",
    "def BPSK(message, M, table, SNRdB):\n",
    "    Eb = 1\n",
    "    N0 = Eb/10**(SNRdB/10)\n",
    "    q = int(np.log2(M))\n",
    "    Ns = len(message)\n",
    "    Nb = Ns*q\n",
    "    noise = np.sqrt(N0/2)*np.random.randn(Nb)\n",
    "    noise = noise.reshape((Ns, q))\n",
    "    X = np.zeros_like(noise)\n",
    "    for i in range(Ns):\n",
    "        X[i]= S2B(message[i], table)\n",
    "    X[X==0]=-1\n",
    "    Y = X+noise\n",
    "    output = np.zeros((Ns, M))\n",
    "    for i in range(Ns):\n",
    "        output[i] = probS(Y[i], N0, q, table, M)\n",
    "    return output\n",
    "\n",
    "def HardDicision(Message):\n",
    "    return np.argmin(Message, axis=1)\n",
    "\n",
    "def score(X, Y):\n",
    "    Z = np.zeros_like(X)\n",
    "    Z[X!=Y]=1\n",
    "    return np.sum(Z)\n",
    "\n",
    "def predict(Q):\n",
    "    message = np.argmin(Q, axis=0)\n",
    "    X = 0\n",
    "    for i in range(dc):\n",
    "        X = gl.add(X, message[i])\n",
    "    return message, X\n",
    "\n",
    "def permutation(X, hi):\n",
    "    Y = np.zeros_like(X)\n",
    "    Y[0] = X[0]\n",
    "    for i in range(1, X.shape[0]):\n",
    "        Y[gl.multi(i, hi)] = X[i]\n",
    "    return Y\n",
    "\n",
    "def permutation2d(X, Y):\n",
    "    Z = np.zeros_like(X)\n",
    "    for i in range(X.shape[1]):\n",
    "        Z[:, i] = permutation(X[:, i], Y[i])\n",
    "    return Z\n",
    "\n",
    "def unpermutation2d(X, Y):\n",
    "    Z = np.zeros_like(X)\n",
    "    for i in range(X.shape[1]):\n",
    "        Z[:, i] = permutation(X[:, i], gl.reserve_e(Y[i]))\n",
    "    return Z\n",
    "\n",
    "def convert_vhdl(A, elem32=False):\n",
    "    shape = A.shape\n",
    "    s = \"(\"\n",
    "    if len(shape)==1:\n",
    "        for i in A:\n",
    "            si = int(i)\n",
    "            s+=str(si)+\", \"\n",
    "        s=s[:-2]+\")\"\n",
    "        return s\n",
    "    if len(shape)==2:\n",
    "        for row in A:\n",
    "            print(convert_vhdl(row)+\",\")\n",
    "\n",
    "def debug(name, value, debug=False):\n",
    "    if debug:\n",
    "        print(name+\"#\"*30)\n",
    "        print(value)\n",
    "        \n",
    "def row_selection(Q, H_i, H_non_zeros_index_i):\n",
    "    Qi = np.zeros((q, dc))\n",
    "    Qi = Q[:,H_non_zeros_index_i]\n",
    "    Qi = permutation2d(Qi, H_i[H_non_zeros_index_i])\n",
    "    return Qi\n",
    "\n",
    "def row_update(Q, Qi2, H_i, H_non_zeros_index_i):\n",
    "    Qi2 = unpermutation2d(Qi2,H_i[H_non_zeros_index_i])\n",
    "    Q[:, H_non_zeros_index_i] = Qi2\n",
    "    return Q\n",
    "    \n",
    "def CN(Q, A= 0.5,  dg=False):\n",
    "    #print(convert_vhdl(Q))\n",
    "    zn = np.argmin(Q, axis=0)\n",
    "    debug(\"Zn\", zn, dg)\n",
    "    dQ = np.zeros_like(Q)\n",
    "    for j in range(dc):\n",
    "        for a in range(q):\n",
    "            nj = gl.add(a, zn[j])\n",
    "            dQ[nj, j] = Q[a, j]\n",
    "            \n",
    "    debug(\"dQ\", dQ, dg)\n",
    "    B = 0\n",
    "    for i in range(dc):\n",
    "        B = gl.add(B, zn[i])\n",
    "    debug(\"B\", B, dg)\n",
    "    def sai(A):\n",
    "        col = np.argmin(A)\n",
    "        sortA = np.sort(A)\n",
    "        return sortA[0], sortA[1], col\n",
    "\n",
    "    m = np.zeros((q-1, 3))\n",
    "    for i in range(1, q):\n",
    "        m[i-1]= sai(dQ[i])\n",
    "    debug(\"m\", m, dg)\n",
    "    debug(\"m0\", m[:, 0], dg)\n",
    "#     print(convert_vhdl(m[:, 0]))        \n",
    "#     print(\"m1\"+\"#\"*30)\n",
    "#     print(convert_vhdl(m[:, 1], True))\n",
    "    conf = np.ones((q, q))*100000\n",
    "    conf[0, 0] = 0\n",
    "    conf[1:, 0] = m[:, 0]\n",
    "    for i in range(1,q-1):\n",
    "        for j in range(i+1, q):\n",
    "            if m[i-1, 2]!=m[j-1,2]:\n",
    "                conf[gl.add(i,j), i] = max(m[i-1, 0],m[j-1,0])\n",
    "    debug(\"conf\", conf, dg)\n",
    "    extra_columm = np.zeros((q, 6))\n",
    "    extra_columm[:, 0] = np.min(conf, axis=1)\n",
    "    extra_columm[1:, 1] = m[:, 0]\n",
    "    extra_columm[1:, 2] = m[:, 1]\n",
    "    extra_columm[1:, 5] = m[:, 2]\n",
    "    argmin=  np.argmin(conf, axis=1)\n",
    "    for i in range(1, q):\n",
    "        if argmin[i]==0:\n",
    "            extra_columm[i, 3] = extra_columm[i, 4] = m[i-1, 2]\n",
    "        else:\n",
    "            d1 = m[argmin[i]-1, 2]\n",
    "            d2 = m[gl.add(argmin[i], i)-1, 2]\n",
    "            extra_columm[i, 3]=d1\n",
    "            extra_columm[i, 4] =d2\n",
    "    debug(\"extra_columm\", extra_columm, dg)\n",
    "    dR = np.zeros_like(dQ)\n",
    "    \n",
    "    def dRij(extra_colummi, j):\n",
    "        dQi, m1, m2, d1, d2, mcol = extra_colummi\n",
    "        if d1==j or d2==j:\n",
    "            if d1 == d2:\n",
    "                return m2\n",
    "            else:\n",
    "                if mcol ==j:\n",
    "                    return m2\n",
    "                else:\n",
    "                    return m1\n",
    "        else:\n",
    "            return dQi\n",
    "        \n",
    "    for i in range(q):\n",
    "        for j in range(dc):\n",
    "            dR[i, j] = dRij(extra_columm[i], j)\n",
    "    debug(\"dR\", dR, dg)\n",
    "    R = np.zeros_like(Q)\n",
    "    for i in range(q):\n",
    "        for j in range(dc):\n",
    "            index = gl.add(i, B)\n",
    "            index = gl.add(index, zn[j])\n",
    "            R[index, j]= (A*dR[i,j]).astype(dtype)\n",
    "            \n",
    "    debug(\"R\", R,dg) \n",
    "    return R\n",
    "\n",
    "def quick_check(H, C):\n",
    "    C = C.reshape((C.shape[0], 1))\n",
    "    return gl.multi(np.array(H), C)\n",
    "\n",
    "gl = GF([3,  1, 0])\n",
    "print(gl.table)"
   ]
  },
  {
   "cell_type": "code",
   "execution_count": 6,
   "metadata": {
    "ExecuteTime": {
     "end_time": "2020-05-11T13:19:10.800042Z",
     "start_time": "2020-05-11T13:19:10.777109Z"
    },
    "code_folding": []
   },
   "outputs": [
    {
     "name": "stdout",
     "output_type": "stream",
     "text": [
      "[25 24 34 22 27 23  6  7  8  9 10 32 12 13 14 15 16 17 18 19 20 21  3  5\n",
      " 26 28 29  4  0 30 31  1 33 11  2]\n",
      "13 35 22\n",
      "(0, 3, 5, 2, 1)\n",
      "(6, 1, 5, 4, 2)\n",
      "(5, 1, 3, 0, 6)\n",
      "(2, 5, 0, 4, 3)\n",
      "(1, 4, 6, 3, 2)\n",
      "(6, 2, 4, 1, 0)\n",
      "(5, 0, 4, 3, 1)\n",
      "(4, 0, 2, 6, 5)\n",
      "(3, 6, 1, 5, 4)\n",
      "(1, 3, 0, 6, 4)\n",
      "(3, 5, 2, 1, 6)\n",
      "(4, 6, 3, 2, 0)\n",
      "(0, 2, 6, 5, 3)\n",
      "####################\n",
      "(0, 10, 19, 23, 29)\n",
      "(6, 8, 19, 25, 30)\n",
      "(5, 8, 17, 21, 34)\n",
      "(2, 12, 14, 25, 31)\n",
      "(1, 11, 20, 24, 30)\n",
      "(6, 9, 18, 22, 28)\n",
      "(5, 7, 18, 24, 29)\n",
      "(4, 7, 16, 27, 33)\n",
      "(3, 13, 15, 26, 32)\n",
      "(1, 10, 14, 27, 32)\n",
      "(3, 12, 16, 22, 34)\n",
      "(4, 13, 17, 23, 28)\n",
      "(0, 9, 20, 26, 31)\n",
      "####################\n",
      "(1, 4, 6, 3, 2)\n",
      "(7, 2, 6, 5, 3)\n",
      "(6, 2, 4, 1, 7)\n",
      "(3, 6, 1, 5, 4)\n",
      "(2, 5, 7, 4, 3)\n",
      "(7, 3, 5, 2, 1)\n",
      "(6, 1, 5, 4, 2)\n",
      "(5, 1, 3, 7, 6)\n",
      "(4, 7, 2, 6, 5)\n",
      "(2, 4, 1, 7, 5)\n",
      "(4, 6, 3, 2, 7)\n",
      "(5, 7, 4, 3, 1)\n",
      "(1, 3, 7, 6, 4)\n"
     ]
    }
   ],
   "source": [
    "Scale = 50\n",
    "dc = 5\n",
    "q = 8\n",
    "dtype = np.int16\n",
    "#dtype = np.float32\n",
    "G = np.load(\"G.npy\").astype(np.int16)\n",
    "H = np.load(\"H.npy\").astype(np.int16)\n",
    "sub = np.load(\"sub.npy\").astype(np.int16)\n",
    "print(sub)\n",
    "m = H.shape[0]\n",
    "n = H.shape[1]\n",
    "k = n- m\n",
    "print(m, n, k)\n",
    "H_non_zeros_index  = np.zeros((m, dc), np.uint16)\n",
    "for i in range(m):\n",
    "    stt = 0\n",
    "    for j in range(n):\n",
    "        if H[i, j]!=0:\n",
    "            H_non_zeros_index[i, stt] = j\n",
    "            stt+=1           \n",
    "\n",
    "    \n",
    "for i in range(m):\n",
    "    Hi = H_non_zeros_index[i]\n",
    "    Hi2 = np.zeros_like(Hi)\n",
    "    for j in range(dc):\n",
    "        Hi2[j] = Hi[j]- j*(q-1)\n",
    "    print(convert_vhdl(Hi2))\n",
    "print(\"#\"*20)\n",
    "for i in range(m):\n",
    "    print(convert_vhdl(H_non_zeros_index[i]))\n",
    "print(\"#\"*20)\n",
    "for i in range(m):\n",
    "    print(convert_vhdl(H[i][H_non_zeros_index[i]]))"
   ]
  },
  {
   "cell_type": "code",
   "execution_count": 3,
   "metadata": {
    "ExecuteTime": {
     "end_time": "2020-05-04T12:54:04.855559Z",
     "start_time": "2020-05-04T12:54:04.850599Z"
    }
   },
   "outputs": [
    {
     "name": "stdout",
     "output_type": "stream",
     "text": [
      "3\n"
     ]
    }
   ],
   "source": [
    "print(gl.add(6, 4))"
   ]
  },
  {
   "cell_type": "code",
   "execution_count": 8,
   "metadata": {
    "ExecuteTime": {
     "end_time": "2020-04-19T13:23:35.261000Z",
     "start_time": "2020-04-19T08:35:28.257251Z"
    }
   },
   "outputs": [
    {
     "name": "stdout",
     "output_type": "stream",
     "text": [
      "0\n",
      "1\n",
      "2\n",
      "3\n",
      "4\n",
      "5\n"
     ]
    }
   ],
   "source": [
    "for SNRdB in range(6):\n",
    "    print(SNRdB)\n",
    "    samples = int(1e6)\n",
    "    Y = np.zeros((samples, n), np.uint8)\n",
    "    X = np.zeros((samples,n, q), np.float16)\n",
    "    for i in range(samples):\n",
    "        u = np.random.randint(0, q, k).reshape(k, 1)\n",
    "        p = gl.multi(G, u)\n",
    "        c0 = np.concatenate((u, p))\n",
    "        c = np.zeros_like(c0)\n",
    "        c[sub.astype(np.uint8)] = c0\n",
    "        c = c.reshape(n)\n",
    "        Q0 = BPSK(c, q, gl.table, SNRdB)\n",
    "        Y[i]= c.copy()\n",
    "        X[i]=Q0.copy()\n",
    "    np.save(\"X\"+str(SNRdB)+\".npy\", X)\n",
    "    np.save(\"Y\"+str(SNRdB)+\".npy\", Y)\n"
   ]
  },
  {
   "cell_type": "code",
   "execution_count": 11,
   "metadata": {
    "ExecuteTime": {
     "end_time": "2020-05-11T19:43:57.608961Z",
     "start_time": "2020-05-11T16:14:04.967691Z"
    }
   },
   "outputs": [
    {
     "name": "stderr",
     "output_type": "stream",
     "text": [
      "c:\\program files\\python37\\lib\\site-packages\\ipykernel_launcher.py:36: TqdmDeprecationWarning: Please use `tqdm.notebook.trange` instead of `tqdm.tnrange`\n"
     ]
    },
    {
     "data": {
      "application/vnd.jupyter.widget-view+json": {
       "model_id": "1d52de3c3f5e4dc2921726cb5b8361af",
       "version_major": 2,
       "version_minor": 0
      },
      "text/plain": [
       "HBox(children=(FloatProgress(value=0.0, max=500000.0), HTML(value='')))"
      ]
     },
     "metadata": {},
     "output_type": "display_data"
    },
    {
     "name": "stdout",
     "output_type": "stream",
     "text": [
      "\n",
      "17500000 184457 155112 10 8\n"
     ]
    }
   ],
   "source": [
    "from tqdm import tnrange\n",
    "import time\n",
    "def decoder2(Q, A):\n",
    "    Rmna = np.zeros((m, q, dc), dtype)\n",
    "    citer = 0\n",
    "    for t in range(5):\n",
    "        citer+=1\n",
    "        stt = 0\n",
    "        for i in range(m):\n",
    "#             print(i)\n",
    "#             print( H_non_zeros_index[i])\n",
    "#             print(H[i][H_non_zeros_index[i]])\n",
    "            Qmnai = permutation2d(Q[:, H_non_zeros_index[i]], H[i][H_non_zeros_index[i]])-Rmna[i]\n",
    "#             convert_vhdl( Q[:, H_non_zeros_index[i]].transpose())\n",
    "#             print(\"#\"*20)\n",
    "            minQ = np.min(Qmnai, axis=0)\n",
    "            Qmnai = Qmnai - minQ\n",
    "#             convert_vhdl( Qmnai.transpose())\n",
    "#             print(\"#\"*20)\n",
    "            Rmna[i] = CN(Qmnai, A)\n",
    "#             convert_vhdl( Rmna[i].transpose())\n",
    "            QRmni = Rmna[i]+ Qmnai\n",
    "            Q[:, H_non_zeros_index[i]] = unpermutation2d(QRmni,  H[i][H_non_zeros_index[i]])\n",
    "        y, s = predict(Q)\n",
    "        s = np.sum(quick_check(H, y))\n",
    "        if s == 0:\n",
    "            break\n",
    "    return y,citer\n",
    "\n",
    "def test(N, A, SNRdB):\n",
    "    NN = 0\n",
    "    EE = 0\n",
    "    E0 = 0\n",
    "    EN = 0\n",
    "    EN0 = 0 \n",
    "    for i in tnrange(N):\n",
    "        t1= time.time()\n",
    "        u = np.random.randint(0, q, k).reshape(k, 1)\n",
    "        p = gl.multi(G, u)\n",
    "        c0 = np.concatenate((u, p))\n",
    "        c = np.zeros_like(c0)\n",
    "        c[sub.astype(np.uint8)] = c0\n",
    "        c = c.reshape(n)\n",
    "        Q0 = BPSK(c, q, gl.table, SNRdB)\n",
    "        t2= time.time()\n",
    "        Q0 = Q0.transpose()\n",
    "        _, s = predict(Q0)\n",
    "        e0 = score(c, _)\n",
    "        E0+=e0\n",
    "        if e0!=0:\n",
    "            EN0+=1\n",
    "        t3= time.time()\n",
    "        Q = (Q0*Scale).astype(np.int16)\n",
    "        y,inters = decoder2(Q0, A)\n",
    "        t4= time.time()\n",
    "        #print(t4-t1)\n",
    "        e = score(c, y)\n",
    "        EE+=e\n",
    "        NN+=n\n",
    "        if e!=0:\n",
    "            EN+=1\n",
    "        \n",
    "    return NN, E0, EE, EN0, EN\n",
    "    \n",
    "\n",
    "\n",
    "# NN, E0,  EE, EN0, EN = test(1000, 1, 6)\n",
    "# print(NN, E0, EN0, EE, EN)\n",
    "\n",
    "NN, E0,  EE, EN0, EN = test(500000, 1, 5.6)\n",
    "print(NN, E0, EN0, EE, EN)\n",
    "\n",
    "# NN, E0,  EE, EN0, EN = test(10000, 1, 5)\n",
    "# print(NN, E0, EN0, EE, EN)"
   ]
  },
  {
   "cell_type": "code",
   "execution_count": null,
   "metadata": {
    "ExecuteTime": {
     "end_time": "2020-04-15T06:52:31.314560Z",
     "start_time": "2020-04-15T06:52:29.913302Z"
    }
   },
   "outputs": [],
   "source": [
    "SNRdbs = [4.2, 4.4, 4.6, 4.8, 5, 5.2]\n",
    "for SNRdb in SNRdbs:\n",
    "    S = 0\n",
    "    E = 0\n",
    "    while S<1e8 and E<5 :\n",
    "        NN, E0,  EE, EN0, EN = test(100, 1, SNRdb)\n",
    "        S+=NN\n",
    "        E+=EE\n",
    "    print(S, E, np.log10(E/S))\n",
    "\n",
    "# 4.2 1990800 6 -5.520876381688342\n",
    "# 4.4 2022300 5 -5.606875577522435\n",
    "# 4.6 2990400 6 -5.697578033651113\n",
    "# 4.8 8769600 5 -6.244009780392107"
   ]
  },
  {
   "cell_type": "code",
   "execution_count": 4,
   "metadata": {
    "ExecuteTime": {
     "end_time": "2020-04-16T00:01:41.572985Z",
     "start_time": "2020-04-16T00:01:41.564043Z"
    }
   },
   "outputs": [
    {
     "name": "stdout",
     "output_type": "stream",
     "text": [
      "[1 5 4 0 3 7 4 6 0 5 6 7 4 5 7 3 7 2 4 6 4]\n"
     ]
    }
   ],
   "source": [
    "u = np.random.randint(0, q, k).reshape(k, 1)\n",
    "p = gl.multi(G, u)\n",
    "c0 = np.concatenate((u, p))\n",
    "c = np.zeros_like(c0)\n",
    "c[sub.astype(np.uint8)] = c0\n",
    "c = c.reshape(n)\n",
    "print(c)\n",
    "Q0 = BPSK(c, q, gl.table, 3)\n",
    "Q0 = Q0.transpose()\n",
    "Q = (Q0*Scale).astype(np.int16)"
   ]
  },
  {
   "cell_type": "code",
   "execution_count": 5,
   "metadata": {
    "ExecuteTime": {
     "end_time": "2020-04-16T00:01:42.736431Z",
     "start_time": "2020-04-16T00:01:42.732473Z"
    }
   },
   "outputs": [
    {
     "name": "stdout",
     "output_type": "stream",
     "text": [
      "[[ 86  96  76   0  61 100 100 100   0 100 100  92 100 100 100  86  94  75\n",
      "  100 100 100]\n",
      " [  0 100  10  86  88  86  86 100  86 100 100  60  86 100  86 100  86 100\n",
      "   80 100  14]\n",
      " [100  15  65  86 100 100  86 100  18  76 100 100  86  86 100 100 100   0\n",
      "   75 100  92]\n",
      " [ 95  80 100  78   0  86 100 100  86  60 100  31 100  86  77   0   7 100\n",
      "  100  96  95]\n",
      " [ 86  80   0 100 100 100   0  61 100  93  74 100   0 100 100 100 100  86\n",
      "    0  86   5]\n",
      " [100   0 100 100  86 100 100  73 100   0  71 100 100   0 100  86  94  49\n",
      "  100  46  86]\n",
      " [ 95  64  86 100 100  85  54   0 100  16   0  73  86  81  86 100  86 100\n",
      "   57   0   0]\n",
      " [  8 100  97 100  27   0 100  86 100  77  86   0 100 100   0  86   0 100\n",
      "  100  50   8]]\n"
     ]
    }
   ],
   "source": [
    "print(Q)"
   ]
  },
  {
   "cell_type": "code",
   "execution_count": 15,
   "metadata": {
    "ExecuteTime": {
     "end_time": "2020-04-16T00:04:19.996759Z",
     "start_time": "2020-04-16T00:04:19.957834Z"
    },
    "code_folding": [
     10,
     161,
     166,
     173,
     189
    ]
   },
   "outputs": [
    {
     "name": "stdout",
     "output_type": "stream",
     "text": [
      "['000' '001' '010' '100' '011' '110' '111' '101']\n"
     ]
    }
   ],
   "source": [
    "import time\n",
    "from bitstring import BitArray\n",
    "stt=0\n",
    "\n",
    "import numpy as np\n",
    "def showarray(a, fmt='png'):\n",
    "    a = np.uint8(a)\n",
    "    f = StringIO()\n",
    "    PIL.Image.fromarray(a).save(f, fmt)\n",
    "    IPython.display.display(IPython.display.Image(data=f.getvalue()))\n",
    "class GF():\n",
    "    def __init__(self, f):\n",
    "        Max = np.max(f)\n",
    "        f2 = np.zeros(Max+1, np.uint8)\n",
    "        f2[f] = 1\n",
    "        f = np.flip(f2)\n",
    "        self.len_of_symbol = Max\n",
    "        self.q = 2**self.len_of_symbol\n",
    "        self.table = np.array(self.make_code_table(f))\n",
    "        \n",
    "    def sub_matrix(self, A, i, j):\n",
    "        A1 = np.delete(A, i, 0)\n",
    "        A2 = np.delete(A1, j, 1)\n",
    "        return A2\n",
    "\n",
    "    def det(self, A):\n",
    "        size = A.shape\n",
    "        if size[0]==2 and size[1]==2:\n",
    "            d = self.add(self.multi(A[0, 0],A[1, 1]), self.multi(A[1, 0],A[0, 1]))\n",
    "            return d\n",
    "        else:\n",
    "            d = 0\n",
    "            for i in range(size[0]):\n",
    "                d=self.add(self.multi(A[0, i],self.det(self.sub_matrix(A, 0, i))), d)\n",
    "            return d\n",
    "        \n",
    "    def make_code_table(self, f):\n",
    "        m = len(f)-1\n",
    "        N = 2**m\n",
    "        table = [\"0\"*m]\n",
    "        x =\"\"\n",
    "        for i in range(1,m+1):\n",
    "            if f[i]==0:\n",
    "                x+=\"0\"\n",
    "            else:\n",
    "                x+=\"1\"\n",
    "        for i in range(0, m):\n",
    "            c=\"0\"*m\n",
    "            c = c[0:i] + \"1\"+c[i+1:]\n",
    "            c = c[::-1]\n",
    "            table.append(c)\n",
    "        for i in range(m+1, N):\n",
    "            a = table[-1]\n",
    "            a1 = a[1:]+\"0\"\n",
    "            b = \"0\"*m\n",
    "            if a[0]==\"1\":\n",
    "                b = x\n",
    "            c = self.add_string_code(a1, b)\n",
    "            table.append(c)\n",
    "        return table\n",
    "\n",
    "    def add_string_code(self, a, b):\n",
    "        c =\"\"\n",
    "        for i in range(self.len_of_symbol):\n",
    "            if a[i]!= b[i] :\n",
    "                c+=\"1\"\n",
    "            else:\n",
    "                c+=\"0\"\n",
    "        return c\n",
    "    def add(self, a, b):\n",
    "        if  np.isscalar(a) and  np.isscalar(b):\n",
    "            a= int(a)\n",
    "            b = int(b)\n",
    "            a1 = self.table[a]\n",
    "            b1 = self.table[b]\n",
    "            c1 = self.add_string_code(a1, b1)\n",
    "            c, = np.where(self.table == c1)\n",
    "            return c[0]\n",
    "        elif not np.isscalar(a):\n",
    "            if np.isscalar(b):\n",
    "                raise ValueError(\"a, b must have same shape ( a:\",a.shape,\", b is scalar)\" )\n",
    "            else:\n",
    "                a_size = a.shape\n",
    "                b_size = b.shape\n",
    "                if  len(a_size) ==2 and  len(a_size)==2:\n",
    "                    if a_size[0] != b_size[0] or a_size[1] != b_size[1] :\n",
    "                        raise ValueError(\"a, b must have same shape ( a:\"+ str(a.shape) +\",  b:\"+str(b.shape)+ \")\" )\n",
    "                    else:\n",
    "                        c = np.zeros_like(a, np.uint8)\n",
    "                        for i in range(a_size[0]):\n",
    "                            for j in range(a_size[1]):\n",
    "                                c[i, j] = self.add(a[i, j], b[i, j])\n",
    "                        return c\n",
    "                elif len(a_size)==1 and len(b_size)==1 and a_size ==b_size :\n",
    "                    c = np.zeros_like(a, np.uint8)\n",
    "                    for i in range(a_size[0]):\n",
    "                        c[i] = self.add(a[i], b[i])\n",
    "                    return c\n",
    "                else:\n",
    "                    raise ValueError(\"a, b must have same shape ( a:\"+ str(a.shape) +\",  b:\"+str(b.shape)+ \")\" )         \n",
    "    def multi(self, a, b):\n",
    "        if  np.isscalar(a) and  np.isscalar(b):\n",
    "                if a ==0 or b == 0:\n",
    "                    return 0\n",
    "                else:\n",
    "                    c = (a+b-2) % (self.q-1)\n",
    "                    return c+1\n",
    "        elif not np.isscalar(a):\n",
    "            a_size = a.shape\n",
    "            if np.isscalar(b):\n",
    "                c = [self.multi(i, b) for i in a]\n",
    "                return np.array(c)\n",
    "            b_size = b.shape\n",
    "            if a_size[1] != b_size[0] :\n",
    "                raise ValueError(\"Can not multiply 2 matrix of dimension: \", a.shape, b.shape)\n",
    "            else:\n",
    "                c = np.zeros((a_size[0], b_size[1]), np.uint8)\n",
    "                for i in range(a_size[0]):\n",
    "                    for j in range(b_size[1]):\n",
    "                        for k in range(a_size[1]):\n",
    "                            c[i, j] =self.add(c[i, j], self.multi(a[i, k], b[k, j])) \n",
    "                return c\n",
    "    def make_sub_matrix(self, x):\n",
    "        N =  N = self.q -1\n",
    "        sub = np.zeros((N, N), np.uint8)\n",
    "        index = x-1\n",
    "        for i in range(N):\n",
    "            sub[i, index] = index+1\n",
    "            index +=1\n",
    "            if index ==N:\n",
    "                index =0\n",
    "        return sub\n",
    "    def reserve_e(self, a):\n",
    "            a2 = self.q+1-a\n",
    "            if a2 == self.q:\n",
    "                a2 = 1\n",
    "            if a2 == self.q+1:\n",
    "                a2 = 0\n",
    "            return a2\n",
    "    def Reserve(self, X, show =False):\n",
    "        N = X.shape[0]\n",
    "        def make_I(n):\n",
    "                In = np.zeros((n, n), np.uint8)\n",
    "                for i in range(n):\n",
    "                    In[i, i] =1\n",
    "                return In\n",
    "        X1 = make_I(N)\n",
    "        for i in range(N):\n",
    "            if show:\n",
    "                print(i)\n",
    "            C = make_I(N)\n",
    "            for j in range(N):\n",
    "                C[j, i] = self.multi(X[j, i], self.reserve_e(X[i,i]))\n",
    "            C[i,i] = self.reserve_e(X[i,i])\n",
    "            X = self.multi(C,X)\n",
    "            X1 = self.multi(C,X1)\n",
    "        return X1\n",
    "    \n",
    "\n",
    "\n",
    "gl = GF([3,  1, 0])\n",
    "print(gl.table)\n",
    "\n",
    "def int2bits(x):\n",
    "    return '{0:08b}'.format(x)\n",
    "\n",
    "def int2creal(x):\n",
    "    return '{0:010b}'.format(x)\n",
    "\n",
    "def byte2int(byte):\n",
    "    return int(byte, 2)\n",
    "\n",
    "def split_with_length(bits, length):\n",
    "    res=[bits[y-length:y] for y in range(length, len(bits)+length,length)]\n",
    "    return res\n",
    "\n",
    "def bits2frame(bits):\n",
    "    bytearrays = split_with_length(bits[:63], 3)\n",
    "    symbols = [byte2int(s) for s in bytearrays]\n",
    "    return symbols\n",
    "\n",
    "def bits2subQ(bits):\n",
    "    bytearrays = split_with_length(bits, 10)\n",
    "    Q = [byte2int(s) for s in bytearrays]\n",
    "    Q = np.array(Q).reshape((3, 8))\n",
    "    return Q\n",
    "\n",
    "def bits2Q(bits):\n",
    "    bytearrays = split_with_length(bits, 10)\n",
    "    Q = [byte2int(s) for s in bytearrays]\n",
    "    Q = np.array(Q).reshape((21, 8))\n",
    "    return Q\n",
    "\n",
    "def send(Q):\n",
    "    ser.write(bytes([15]))\n",
    "    Q2 = Q.transpose()\n",
    "    print(Q2)\n",
    "    print(\"#\"*20)\n",
    "    A =Q2.reshape(n*q)\n",
    "    print(A)\n",
    "    print(\"#\"*20)\n",
    "    B = [int2creal(x) for x in A]\n",
    "    S=\"\"\n",
    "    for s in B:\n",
    "        S+=s\n",
    "    bytes_arr = split_with_length(S, 8)\n",
    "    for byte in bytes_arr:\n",
    "        ser.write(bytes([int(byte, 2)]))\n",
    "        time.sleep(0.0001)"
   ]
  },
  {
   "cell_type": "code",
   "execution_count": 7,
   "metadata": {
    "ExecuteTime": {
     "end_time": "2020-04-16T00:01:49.050551Z",
     "start_time": "2020-04-16T00:01:49.034556Z"
    }
   },
   "outputs": [],
   "source": [
    "import serial\n",
    "from serial import Serial\n",
    "ser = Serial('COM4', 115200, serial.EIGHTBITS, serial.PARITY_NONE, serial.STOPBITS_ONE)"
   ]
  },
  {
   "cell_type": "code",
   "execution_count": 8,
   "metadata": {
    "ExecuteTime": {
     "end_time": "2020-04-16T00:01:50.307397Z",
     "start_time": "2020-04-16T00:01:50.300423Z"
    }
   },
   "outputs": [],
   "source": [
    "def Listening():\n",
    "    print(\"listening!\")\n",
    "    data=\"\"\n",
    "    stt=0\n",
    "    while cf.RUN:\n",
    "        res = ser.read()\n",
    "        data+=int2bits(ord(res))\n",
    "        stt+=1\n",
    "        if stt ==8:\n",
    "            print(data)\n",
    "            print(bits2frame(data))\n",
    "            data = \"\"\n",
    "            stt = 0\n",
    "    print(\"stoped\")\n",
    "    \n",
    "def Listening1():\n",
    "    print(\"listening!\")\n",
    "    data=\"\"\n",
    "    stt=0\n",
    "    while cf.RUN:\n",
    "        res = ser.read()\n",
    "        data+=int2bits(ord(res))\n",
    "        stt+=1\n",
    "        if stt ==30:\n",
    "            print(bits2subQ(data))\n",
    "            data = \"\"\n",
    "            stt = 0\n",
    "    print(\"stoped\")\n",
    "    \n",
    "def Listening2():\n",
    "    print(\"listening!\")\n",
    "    data=\"\"\n",
    "    stt=0\n",
    "    while cf.RUN:\n",
    "        res = ser.read()\n",
    "        data+=int2bits(ord(res))\n",
    "        stt+=1\n",
    "        if stt ==210:\n",
    "            print(bits2Q(data))\n",
    "            print(\"#\"*20)\n",
    "            data = \"\"\n",
    "            stt = 0\n",
    "    print(\"stoped\")"
   ]
  },
  {
   "cell_type": "code",
   "execution_count": 9,
   "metadata": {
    "ExecuteTime": {
     "end_time": "2020-04-16T00:01:51.475421Z",
     "start_time": "2020-04-16T00:01:51.467463Z"
    },
    "scrolled": true
   },
   "outputs": [
    {
     "name": "stdout",
     "output_type": "stream",
     "text": [
      "listening!\n"
     ]
    }
   ],
   "source": [
    "import config as cf\n",
    "import threading\n",
    "cf.RUN =True\n",
    "listen = threading.Thread(target=Listening)\n",
    "listen.start()"
   ]
  },
  {
   "cell_type": "code",
   "execution_count": 17,
   "metadata": {
    "ExecuteTime": {
     "end_time": "2020-04-16T00:04:35.409872Z",
     "start_time": "2020-04-16T00:04:35.067184Z"
    }
   },
   "outputs": [
    {
     "name": "stdout",
     "output_type": "stream",
     "text": [
      "[[ 86   0 100  95  86 100  95   8]\n",
      " [ 96 100  15  80  80   0  64 100]\n",
      " [ 76  10  65 100   0 100  86  97]\n",
      " [  0  86  86  78 100 100 100 100]\n",
      " [ 61  88 100   0 100  86 100  27]\n",
      " [100  86 100  86 100 100  85   0]\n",
      " [100  86  86 100   0 100  54 100]\n",
      " [100 100 100 100  61  73   0  86]\n",
      " [  0  86  18  86 100 100 100 100]\n",
      " [100 100  76  60  93   0  16  77]\n",
      " [100 100 100 100  74  71   0  86]\n",
      " [ 92  60 100  31 100 100  73   0]\n",
      " [100  86  86 100   0 100  86 100]\n",
      " [100 100  86  86 100   0  81 100]\n",
      " [100  86 100  77 100 100  86   0]\n",
      " [ 86 100 100   0 100  86 100  86]\n",
      " [ 94  86 100   7 100  94  86   0]\n",
      " [ 75 100   0 100  86  49 100 100]\n",
      " [100  80  75 100   0 100  57 100]\n",
      " [100 100 100  96  86  46   0  50]\n",
      " [100  14  92  95   5  86   0   8]]\n",
      "####################\n",
      "[ 86   0 100  95  86 100  95   8  96 100  15  80  80   0  64 100  76  10\n",
      "  65 100   0 100  86  97   0  86  86  78 100 100 100 100  61  88 100   0\n",
      " 100  86 100  27 100  86 100  86 100 100  85   0 100  86  86 100   0 100\n",
      "  54 100 100 100 100 100  61  73   0  86   0  86  18  86 100 100 100 100\n",
      " 100 100  76  60  93   0  16  77 100 100 100 100  74  71   0  86  92  60\n",
      " 100  31 100 100  73   0 100  86  86 100   0 100  86 100 100 100  86  86\n",
      " 100   0  81 100 100  86 100  77 100 100  86   0  86 100 100   0 100  86\n",
      " 100  86  94  86 100   7 100  94  86   0  75 100   0 100  86  49 100 100\n",
      " 100  80  75 100   0 100  57 100 100 100 100  96  86  46   0  50 100  14\n",
      "  92  95   5  86   0   8]\n",
      "####################\n",
      "[[ 86   0 100  95  86 100  95   8]\n",
      " [ 96 100  15  80  80   0  64 100]\n",
      " [ 76  10  65 100   0 100  86  97]\n",
      " [  0  86  86  78 100 100 100 100]\n",
      " [ 61  88 100   0 100  86 100  27]\n",
      " [100  86 100  86 100 100  85   0]\n",
      " [100  86  86 100   0 100  54 100]\n",
      " [100 100 100 100  61  73   0  86]\n",
      " [  0  86  18  86 100 100 100 100]\n",
      " [100 100  76  60  93   0  16  77]\n",
      " [100 100 100 100  74  71   0  86]\n",
      " [ 92  60 100  31 100 100  73   0]\n",
      " [100  86  86 100   0 100  86 100]\n",
      " [100 100  86  86 100   0  81 100]\n",
      " [100  86 100  77 100 100  86   0]\n",
      " [ 86 100 100   0 100  86 100  86]\n",
      " [ 94  86 100   7 100  94  86   0]\n",
      " [ 75 100   0 100  86  49 100 100]\n",
      " [100  80  75 100   0 100  57 100]\n",
      " [100 100 100  96  86  46   0  50]\n",
      " [100  14  92  95   5  86   0   8]]\n",
      "####################\n"
     ]
    },
    {
     "name": "stderr",
     "output_type": "stream",
     "text": [
      "Exception in thread Thread-6:\n",
      "Traceback (most recent call last):\n",
      "  File \"c:\\program files\\python37\\lib\\threading.py\", line 926, in _bootstrap_inner\n",
      "    self.run()\n",
      "  File \"c:\\program files\\python37\\lib\\threading.py\", line 870, in run\n",
      "    self._target(*self._args, **self._kwargs)\n",
      "  File \"<ipython-input-8-43736ccda6d1>\", line 36, in Listening2\n",
      "    data+=int2bits(ord(res))\n",
      "TypeError: ord() expected a character, but string of length 0 found\n",
      "\n"
     ]
    }
   ],
   "source": [
    "send(Q)"
   ]
  },
  {
   "cell_type": "code",
   "execution_count": null,
   "metadata": {
    "ExecuteTime": {
     "end_time": "2020-04-15T06:56:33.422811Z",
     "start_time": "2020-04-15T06:56:33.418814Z"
    }
   },
   "outputs": [],
   "source": [
    "cf.RUN =False"
   ]
  },
  {
   "cell_type": "code",
   "execution_count": 13,
   "metadata": {
    "ExecuteTime": {
     "end_time": "2020-04-16T00:02:44.360461Z",
     "start_time": "2020-04-16T00:02:44.355505Z"
    }
   },
   "outputs": [
    {
     "name": "stdout",
     "output_type": "stream",
     "text": [
      "(86, 0, 100, 95, 86, 100, 95, 8),\n",
      "(96, 100, 15, 80, 80, 0, 64, 100),\n",
      "(76, 10, 65, 100, 0, 100, 86, 97),\n",
      "(0, 86, 86, 78, 100, 100, 100, 100),\n",
      "(61, 88, 100, 0, 100, 86, 100, 27),\n",
      "(100, 86, 100, 86, 100, 100, 85, 0),\n",
      "(100, 86, 86, 100, 0, 100, 54, 100),\n",
      "(100, 100, 100, 100, 61, 73, 0, 86),\n",
      "(0, 86, 18, 86, 100, 100, 100, 100),\n",
      "(100, 100, 76, 60, 93, 0, 16, 77),\n",
      "(100, 100, 100, 100, 74, 71, 0, 86),\n",
      "(92, 60, 100, 31, 100, 100, 73, 0),\n",
      "(100, 86, 86, 100, 0, 100, 86, 100),\n",
      "(100, 100, 86, 86, 100, 0, 81, 100),\n",
      "(100, 86, 100, 77, 100, 100, 86, 0),\n",
      "(86, 100, 100, 0, 100, 86, 100, 86),\n",
      "(94, 86, 100, 7, 100, 94, 86, 0),\n",
      "(75, 100, 0, 100, 86, 49, 100, 100),\n",
      "(100, 80, 75, 100, 0, 100, 57, 100),\n",
      "(100, 100, 100, 96, 86, 46, 0, 50),\n",
      "(100, 14, 92, 95, 5, 86, 0, 8),\n"
     ]
    }
   ],
   "source": [
    "convert_vhdl(Q.transpose())"
   ]
  },
  {
   "cell_type": "code",
   "execution_count": null,
   "metadata": {
    "ExecuteTime": {
     "end_time": "2020-04-15T07:00:46.068799Z",
     "start_time": "2020-04-15T07:00:46.043866Z"
    }
   },
   "outputs": [],
   "source": [
    "decoder2(Q, 1)"
   ]
  },
  {
   "cell_type": "code",
   "execution_count": null,
   "metadata": {
    "ExecuteTime": {
     "end_time": "2020-04-14T08:56:45.129790Z",
     "start_time": "2020-04-14T08:56:45.121816Z"
    }
   },
   "outputs": [],
   "source": [
    "subQ = Q[:, H_non_zeros_index[0]]\n",
    "convert_vhdl(subQ)\n",
    "R = CN(subQ, 1, True)"
   ]
  },
  {
   "cell_type": "code",
   "execution_count": null,
   "metadata": {
    "ExecuteTime": {
     "end_time": "2020-04-12T04:30:36.517510Z",
     "start_time": "2020-04-12T04:30:36.493544Z"
    }
   },
   "outputs": [],
   "source": [
    "y, citer = decoder2(Q.copy(), 1)\n",
    "print(citer)"
   ]
  },
  {
   "cell_type": "code",
   "execution_count": null,
   "metadata": {
    "ExecuteTime": {
     "end_time": "2020-04-05T11:46:20.015519Z",
     "start_time": "2020-04-05T11:46:20.011528Z"
    }
   },
   "outputs": [],
   "source": [
    "print(y)"
   ]
  },
  {
   "cell_type": "code",
   "execution_count": null,
   "metadata": {
    "ExecuteTime": {
     "end_time": "2020-04-04T15:02:53.343749Z",
     "start_time": "2020-04-04T15:02:53.340757Z"
    }
   },
   "outputs": [],
   "source": [
    "print(gl.add(6, 3))\n",
    "print(Q[4, 0])"
   ]
  },
  {
   "cell_type": "code",
   "execution_count": null,
   "metadata": {
    "ExecuteTime": {
     "end_time": "2020-04-04T14:34:53.780616Z",
     "start_time": "2020-04-04T14:34:53.771608Z"
    }
   },
   "outputs": [],
   "source": [
    "R = CN(Q, True)"
   ]
  },
  {
   "cell_type": "code",
   "execution_count": null,
   "metadata": {
    "ExecuteTime": {
     "end_time": "2020-04-04T14:29:04.795510Z",
     "start_time": "2020-04-04T14:29:04.786534Z"
    }
   },
   "outputs": [],
   "source": [
    "def convert_vhdl(A, elem32=False):\n",
    "    shape = A.shape\n",
    "    s = \"(\"\n",
    "    if len(shape)==1:\n",
    "        for i in A:\n",
    "            si = int(i)\n",
    "            s+=str(si)+\", \"\n",
    "        s=s[:-2]+\")\"\n",
    "        return s\n",
    "    if len(shape)==2:\n",
    "        for row in A:\n",
    "            print(convert_vhdl(row)+\",\")\n",
    "            \n",
    "c = np.random.randint(0, q, dc)\n",
    "Q0 = BPSK(c, q, gl.table, 4)\n",
    "Q0 = Q0.transpose()\n",
    "Q = (Q0*1000).astype(np.int16)\n",
    "convert_vhdl(Q)"
   ]
  },
  {
   "cell_type": "code",
   "execution_count": null,
   "metadata": {
    "ExecuteTime": {
     "end_time": "2020-04-04T04:58:06.023232Z",
     "start_time": "2020-04-04T04:58:01.059719Z"
    }
   },
   "outputs": [],
   "source": [
    "import cv2\n",
    "_H = 160\n",
    "_W = 120\n",
    "def int2Bits(x):\n",
    "    B = '{0:08b}'.format(x)\n",
    "    B = np.array(list(B)).astype(np.int8)\n",
    "    return B\n",
    "\n",
    "def img_to_bit(img):\n",
    "    img = cv2.resize(img, (_H, _W))\n",
    "    cv2.imshow(\"img\", img)\n",
    "    cv2.waitKey(0)\n",
    "    cv2.destroyAllWindows()\n",
    "    data = np.zeros(W*H*8*3)\n",
    "    for i in range(W):\n",
    "        for j in range(H):\n",
    "            data[(i*H+j)*24:(i*H+j+1)*24]=np.concatenate((int2Bits(img[i,j, 0]), int2Bits(img[i,j, 1]), int2Bits(img[i,j, 2])))\n",
    "    return data\n",
    "                                                         \n",
    "img = cv2.imread(\"m.jpg\")\n",
    "data = img_to_bit(img)"
   ]
  },
  {
   "cell_type": "code",
   "execution_count": null,
   "metadata": {
    "ExecuteTime": {
     "end_time": "2020-04-04T07:05:36.062895Z",
     "start_time": "2020-04-04T07:05:36.040944Z"
    }
   },
   "outputs": [],
   "source": [
    "lob = gl.len_of_symbol\n",
    "text = \"hello everyone, this is NB-LPDC simulink program by De Lai\"\n",
    "def text_to_bits(text, encoding='utf-8', errors='surrogatepass'):\n",
    "    bits = bin(int.from_bytes(text.encode(encoding, errors), 'big'))[2:]\n",
    "    return bits.zfill(8 * ((len(bits) + 7) // 8))\n",
    "\n",
    "def text_from_bits(bits, encoding='utf-8', errors='surrogatepass'):\n",
    "    result = \"\"\n",
    "    bytes_splited = split_with_length(bits, 8)\n",
    "    for byte in bytes_splited:\n",
    "        n = int(byte, 2)\n",
    "        b = \"0\"\n",
    "        try:\n",
    "            b = n.to_bytes((n.bit_length() + 7) // 8, 'big').decode(encoding, errors) or '\\0'\n",
    "        except:\n",
    "            pass\n",
    "        result+=b\n",
    "    return result\n",
    "\n",
    "def split_with_length(bits, length):\n",
    "    res=[bits[y-length:y] for y in range(length, len(bits)+length,length)]\n",
    "    return res\n",
    "\n",
    "def text_to_frames(text):\n",
    "    bits = text_to_bits(text)\n",
    "    l = len(bits)\n",
    "    l_pad = l if l%(lob*k)==0 else lob*k*(l//(lob*k)+1)\n",
    "    n_pad = l_pad-l\n",
    "    bits+=\"0\"*n_pad\n",
    "    S = split_with_length(bits, lob)\n",
    "    symbols = [np.where(gl.table==s)[0][0] for s in S]\n",
    "    num_frame = l_pad//(k*lob)\n",
    "    frames= np.array(symbols).reshape((num_frame, k))\n",
    "    return frames, l\n",
    "\n",
    "def bits_to_frames(bits):\n",
    "    l = len(bits)\n",
    "    l_pad = l if l%(lob*k)==0 else lob*k*(l//(lob*k)+1)\n",
    "    n_pad = l_pad-l\n",
    "    bits+=\"0\"*n_pad\n",
    "    S = split_with_length(bits, lob)\n",
    "    symbols = [np.where(gl.table==s)[0][0] for s in S]\n",
    "    num_frame = l_pad//(k*lob)\n",
    "    frames= np.array(symbols).reshape((num_frame, k))\n",
    "    return frames, l\n",
    "\n",
    "def frames_to_text(frames, l):\n",
    "    symbols = frames.reshape(frames.shape[0]*frames.shape[1])\n",
    "    S = [gl.table[s] for s in symbols]\n",
    "    bits = \"\"\n",
    "    for s in S:\n",
    "        bits+=s\n",
    "    bits = bits[:l]\n",
    "    text = text_from_bits(bits)\n",
    "    return text\n",
    "\n",
    "def frames_to_bits(frames, l):\n",
    "    symbols = frames.reshape(frames.shape[0]*frames.shape[1])\n",
    "    S = [gl.table[s] for s in symbols]\n",
    "    bits = \"\"\n",
    "    for s in S:\n",
    "        bits+=s\n",
    "    bits = bits[:l]\n",
    "    return bits\n",
    "    \n",
    "def send_text(text, SNRdB):\n",
    "    frames, l = text_to_frames(text)\n",
    "    received_frames = np.zeros_like(frames)\n",
    "    decoded_frames = np.zeros_like(frames)\n",
    "    for i in range(frames.shape[0]):\n",
    "        u =frames[i].reshape(k, 1)\n",
    "        p = gl.multi(G, u)\n",
    "        c0 = np.concatenate((u, p))\n",
    "        c = c0.reshape(n)\n",
    "        Q0 = BPSK(c, q, gl.table, SNRdB)\n",
    "        Q0 = Q0.transpose()\n",
    "        y, s = predict(Q0)\n",
    "        received_frames[i] = y[:k]\n",
    "        y2 = decoder2(Q0)\n",
    "        decoded_frames[i] = y2[:k]\n",
    "    decoded_text = frames_to_text(decoded_frames, l)\n",
    "    received_text = frames_to_text(received_frames, l)\n",
    "    return decoded_text, received_text\n",
    "\n",
    "def send_bits(text, SNRdB):\n",
    "    frames, l = bits_to_frames(text)\n",
    "    received_frames = np.zeros_like(frames)\n",
    "    decoded_frames = np.zeros_like(frames)\n",
    "    for i in range(frames.shape[0]):\n",
    "        u =frames[i].reshape(k, 1)\n",
    "        p = gl.multi(G, u)\n",
    "        c0 = np.concatenate((u, p))\n",
    "        c = c0.reshape(n)\n",
    "        Q0 = BPSK(c, q, gl.table, SNRdB)\n",
    "        Q0 = Q0.transpose()\n",
    "        y, s = predict(Q0)\n",
    "        received_frames[i] = y[:k]\n",
    "        y2 = decoder2(Q0)\n",
    "        decoded_frames[i] = y2[:k]\n",
    "    decoded_bits = frames_to_bits(decoded_frames, l)\n",
    "    received_bits = frames_to_bits(received_frames, l)\n",
    "    return decoded_bits, received_bits\n",
    "    "
   ]
  },
  {
   "cell_type": "code",
   "execution_count": null,
   "metadata": {
    "ExecuteTime": {
     "end_time": "2020-04-04T07:25:33.254105Z",
     "start_time": "2020-04-04T07:25:33.045263Z"
    }
   },
   "outputs": [],
   "source": [
    "send_text(text, 4)"
   ]
  },
  {
   "cell_type": "code",
   "execution_count": null,
   "metadata": {
    "ExecuteTime": {
     "end_time": "2020-04-04T07:19:00.989390Z",
     "start_time": "2020-04-04T07:18:29.324451Z"
    }
   },
   "outputs": [],
   "source": [
    "SNRdB = 6\n",
    "import base64\n",
    "import cv2\n",
    "_H = 300\n",
    "_W = 200\n",
    "img = cv2.imread(\"m.jpg\")\n",
    "img = cv2.resize(img, (_H, _W))\n",
    "cv2.imshow(\"img\", img)\n",
    "cv2.waitKey(0)\n",
    "cv2.destroyAllWindows()"
   ]
  },
  {
   "cell_type": "code",
   "execution_count": null,
   "metadata": {},
   "outputs": [],
   "source": [
    "img = img.reshape(_W*_H*3)\n",
    "_bytes = base64.b64encode(img)\n",
    "print(len(_bytes))\n",
    "# _bytes = zlib.compress(_bytes)\n",
    "# print(len(_bytes))\n",
    "bits = ''.join(format(byte, '08b') for byte in _bytes)\n",
    "decoded_bits, received_bits = send_bits(bits, SNRdB)\n",
    "decoded_bytes = int(decoded_bits, 2).to_bytes((len(decoded_bits) + 7) // 8, 'big')\n",
    "received_bits = int(received_bits, 2).to_bytes((len(received_bits) + 7) // 8, 'big')\n",
    "# _bytes = zlib.decompress(received_bits)\n",
    "img =base64.decodebytes(received_bits)\n",
    "img = np.frombuffer(img, dtype=np.uint8)\n",
    "img = img.reshape(_W,_H,3)\n",
    "\n",
    "cv2.imshow(\"img\", img)\n",
    "cv2.waitKey(0)\n",
    "cv2.destroyAllWindows()"
   ]
  },
  {
   "cell_type": "code",
   "execution_count": null,
   "metadata": {
    "ExecuteTime": {
     "end_time": "2020-04-05T04:57:47.668786Z",
     "start_time": "2020-04-05T04:57:47.662784Z"
    }
   },
   "outputs": [],
   "source": [
    "a = 2\n",
    "Q = np.array([2127, 4309,  842, 1285, 3024 ,   0, 2181, 3467])\n",
    "Q1 = permutation(Q, a)\n",
    "print(Q1)\n",
    "Q2 = permutation(Q, gl.reserve_e(a))\n",
    "print(Q2)"
   ]
  },
  {
   "cell_type": "code",
   "execution_count": null,
   "metadata": {
    "ExecuteTime": {
     "end_time": "2020-04-04T13:04:22.378231Z",
     "start_time": "2020-04-04T13:04:22.373275Z"
    }
   },
   "outputs": [],
   "source": [
    "gl = GF([3,  1, 0])\n",
    "for i in range(8):\n",
    "    print(i, gl.reserve_e(i))"
   ]
  }
 ],
 "metadata": {
  "kernelspec": {
   "display_name": "Python 3",
   "language": "python",
   "name": "python3"
  },
  "language_info": {
   "codemirror_mode": {
    "name": "ipython",
    "version": 3
   },
   "file_extension": ".py",
   "mimetype": "text/x-python",
   "name": "python",
   "nbconvert_exporter": "python",
   "pygments_lexer": "ipython3",
   "version": "3.7.6"
  }
 },
 "nbformat": 4,
 "nbformat_minor": 4
}
