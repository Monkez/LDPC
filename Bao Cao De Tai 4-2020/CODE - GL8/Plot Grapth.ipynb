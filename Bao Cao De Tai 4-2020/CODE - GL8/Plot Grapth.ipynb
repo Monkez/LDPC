{
 "cells": [
  {
   "cell_type": "code",
   "execution_count": 202,
   "metadata": {
    "ExecuteTime": {
     "end_time": "2020-04-14T04:49:41.098417Z",
     "start_time": "2020-04-14T04:49:41.092434Z"
    }
   },
   "outputs": [],
   "source": [
    "import numpy as np\n",
    "import  matplotlib.pyplot as plt \n",
    "SNRdB1 = np.arange(13)\n",
    "BER_BPSK = [0.0786, 0.0563, 0.0375, 0.0229, 0.0125, 0.006, 0.0024, 0.0008, 0.0002, 0.000034, 3.87*(1e-6), 2.61*(1e-7), 9*(1e-9)]\n",
    "SNRdB2 = [0, 1, 2, 3, 3.5,  4, 4.2, 4.4, 4.6, 4.8, 5.0, 5.2]\n",
    "NB_LDPC8 = [200/2100, 25/2100, 30/25200, 25/233100, 70/2923200 , 14/2923200, 4/1990800, 2/2022300, 1/2990400, 1/9900000, 1e-8]\n",
    "NB_LDPC82 = [205/2100, 28/2100, 35/25200, 29/233100, 90/2923200 , 17/2923200, 6/1990800, 3/2022300, 2/2990400, 2.5/9900000, 8*1e-8, 1.2*1e-8]"
   ]
  },
  {
   "cell_type": "code",
   "execution_count": 204,
   "metadata": {
    "ExecuteTime": {
     "end_time": "2020-04-14T04:50:19.242590Z",
     "start_time": "2020-04-14T04:50:19.004188Z"
    }
   },
   "outputs": [],
   "source": [
    "N1 = len(NB_LDPC8)\n",
    "N2 = len(NB_LDPC82)\n",
    "fig = plt.figure(figsize=(7,6))\n",
    "# plt.plot(SNRdB1, BER_BPSK, label='B-PSK', linewidth=4.0)\n",
    "plt.plot(SNRdB2[:N], NB_LDPC8,'--', label='LDPC-GF(8)-Iter-15', linewidth=4.0)\n",
    "plt.plot(SNRdB2[:N2], NB_LDPC82,'.-', label='LDPC-GF(8)-Iter-15-FPGA', linewidth=4.0)\n",
    "plt.xticks(np.arange(0, 8, 1))\n",
    "plt.yscale('log')\n",
    "plt.ylabel('BER (log10)')\n",
    "plt.xlabel('SNR(dB)')\n",
    "plt.grid()\n",
    "plt.legend()\n",
    "plt.savefig('Ber.png')\n",
    "plt.close(fig)  \n",
    "plt.show()\n"
   ]
  },
  {
   "cell_type": "code",
   "execution_count": 167,
   "metadata": {
    "ExecuteTime": {
     "end_time": "2020-04-14T04:38:15.361175Z",
     "start_time": "2020-04-14T04:38:15.349207Z"
    }
   },
   "outputs": [
    {
     "data": {
      "text/plain": [
       "<Figure size 432x288 with 0 Axes>"
      ]
     },
     "metadata": {},
     "output_type": "display_data"
    }
   ],
   "source": []
  }
 ],
 "metadata": {
  "kernelspec": {
   "display_name": "Python 3",
   "language": "python",
   "name": "python3"
  },
  "language_info": {
   "codemirror_mode": {
    "name": "ipython",
    "version": 3
   },
   "file_extension": ".py",
   "mimetype": "text/x-python",
   "name": "python",
   "nbconvert_exporter": "python",
   "pygments_lexer": "ipython3",
   "version": "3.7.6"
  }
 },
 "nbformat": 4,
 "nbformat_minor": 4
}
