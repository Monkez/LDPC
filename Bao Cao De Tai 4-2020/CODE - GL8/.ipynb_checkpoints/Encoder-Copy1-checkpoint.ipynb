{
 "cells": [
  {
   "cell_type": "code",
   "execution_count": 1,
   "metadata": {
    "ExecuteTime": {
     "end_time": "2020-04-08T03:22:05.238554Z",
     "start_time": "2020-04-08T03:22:04.931335Z"
    },
    "code_folding": [
     2,
     8,
     156,
     211
    ]
   },
   "outputs": [],
   "source": [
    "import numpy as np\n",
    "\n",
    "def showarray(a, fmt='png'):\n",
    "    a = np.uint8(a)\n",
    "    f = StringIO()\n",
    "    PIL.Image.fromarray(a).save(f, fmt)\n",
    "    IPython.display.display(IPython.display.Image(data=f.getvalue()))\n",
    "    \n",
    "class GF():\n",
    "    def __init__(self, f):\n",
    "        Max = np.max(f)\n",
    "        f2 = np.zeros(Max+1, np.uint8)\n",
    "        f2[f] = 1\n",
    "        f = np.flip(f2)\n",
    "        self.len_of_symbol = Max\n",
    "        self.q = 2**self.len_of_symbol\n",
    "        self.table = np.array(self.make_code_table(f))\n",
    "        \n",
    "    def sub_matrix(self, A, i, j):\n",
    "        A1 = np.delete(A, i, 0)\n",
    "        A2 = np.delete(A1, j, 1)\n",
    "        return A2\n",
    "\n",
    "    def det(self, A):\n",
    "        size = A.shape\n",
    "        if size[0]==2 and size[1]==2:\n",
    "            d = self.add(self.multi(A[0, 0],A[1, 1]), self.multi(A[1, 0],A[0, 1]))\n",
    "            return d\n",
    "        else:\n",
    "            d = 0\n",
    "            for i in range(size[0]):\n",
    "                d=self.add(self.multi(A[0, i],self.det(self.sub_matrix(A, 0, i))), d)\n",
    "            return d\n",
    "        \n",
    "    def make_code_table(self, f):\n",
    "        m = len(f)-1\n",
    "        N = 2**m\n",
    "        table = [\"0\"*m]\n",
    "        x =\"\"\n",
    "        for i in range(1,m+1):\n",
    "            if f[i]==0:\n",
    "                x+=\"0\"\n",
    "            else:\n",
    "                x+=\"1\"\n",
    "        for i in range(0, m):\n",
    "            c=\"0\"*m\n",
    "            c = c[0:i] + \"1\"+c[i+1:]\n",
    "            c = c[::-1]\n",
    "            table.append(c)\n",
    "        for i in range(m+1, N):\n",
    "            a = table[-1]\n",
    "            a1 = a[1:]+\"0\"\n",
    "            b = \"0\"*m\n",
    "            if a[0]==\"1\":\n",
    "                b = x\n",
    "            c = self.add_string_code(a1, b)\n",
    "            table.append(c)\n",
    "        return table\n",
    "\n",
    "    def add_string_code(self, a, b):\n",
    "        c =\"\"\n",
    "        for i in range(self.len_of_symbol):\n",
    "            if a[i]!= b[i] :\n",
    "                c+=\"1\"\n",
    "            else:\n",
    "                c+=\"0\"\n",
    "        return c\n",
    "    def add(self, a, b):\n",
    "        if  np.isscalar(a) and  np.isscalar(b):\n",
    "            a= int(a)\n",
    "            b = int(b)\n",
    "            a1 = self.table[a]\n",
    "            b1 = self.table[b]\n",
    "            c1 = self.add_string_code(a1, b1)\n",
    "            c, = np.where(self.table == c1)\n",
    "            return c[0]\n",
    "        elif not np.isscalar(a):\n",
    "            if np.isscalar(b):\n",
    "                raise ValueError(\"a, b must have same shape ( a:\",a.shape,\", b is scalar)\" )\n",
    "            else:\n",
    "                a_size = a.shape\n",
    "                b_size = b.shape\n",
    "                if  len(a_size) ==2 and  len(a_size)==2:\n",
    "                    if a_size[0] != b_size[0] or a_size[1] != b_size[1] :\n",
    "                        raise ValueError(\"a, b must have same shape ( a:\"+ str(a.shape) +\",  b:\"+str(b.shape)+ \")\" )\n",
    "                    else:\n",
    "                        c = np.zeros_like(a, np.uint8)\n",
    "                        for i in range(a_size[0]):\n",
    "                            for j in range(a_size[1]):\n",
    "                                c[i, j] = self.add(a[i, j], b[i, j])\n",
    "                        return c\n",
    "                elif len(a_size)==1 and len(b_size)==1 and a_size ==b_size :\n",
    "                    c = np.zeros_like(a, np.uint8)\n",
    "                    for i in range(a_size[0]):\n",
    "                        c[i] = self.add(a[i], b[i])\n",
    "                    return c\n",
    "                else:\n",
    "                    raise ValueError(\"a, b must have same shape ( a:\"+ str(a.shape) +\",  b:\"+str(b.shape)+ \")\" )         \n",
    "    def multi(self, a, b):\n",
    "        if  np.isscalar(a) and  np.isscalar(b):\n",
    "                if a ==0 or b == 0:\n",
    "                    return 0\n",
    "                else:\n",
    "                    c = (a+b-2) % (self.q-1)\n",
    "                    return c+1\n",
    "        elif not np.isscalar(a):\n",
    "            a_size = a.shape\n",
    "            if np.isscalar(b):\n",
    "                c = [self.multi(i, b) for i in a]\n",
    "                return np.array(c)\n",
    "            b_size = b.shape\n",
    "            if a_size[1] != b_size[0] :\n",
    "                raise ValueError(\"Can not multiply 2 matrix of dimension: \", a.shape, b.shape)\n",
    "            else:\n",
    "                c = np.zeros((a_size[0], b_size[1]), np.uint8)\n",
    "                for i in range(a_size[0]):\n",
    "                    for j in range(b_size[1]):\n",
    "                        for k in range(a_size[1]):\n",
    "                            c[i, j] =self.add(c[i, j], self.multi(a[i, k], b[k, j])) \n",
    "                return c\n",
    "    def make_sub_matrix(self, x):\n",
    "        N =  N = self.q -1\n",
    "        sub = np.zeros((N, N), np.uint8)\n",
    "        index = x-1\n",
    "        for i in range(N):\n",
    "            sub[i, index] = index+1\n",
    "            index +=1\n",
    "            if index ==N:\n",
    "                index =0\n",
    "        return sub\n",
    "    def reserve_e(self, a):\n",
    "            a2 = self.q+1-a\n",
    "            if a2 == self.q:\n",
    "                a2 = 1\n",
    "            if a2 == self.q+1:\n",
    "                a2 = 0\n",
    "            return a2\n",
    "    def Reserve_fast(self, X, show =False):\n",
    "        N = X.shape[0]\n",
    "        def make_I(n):\n",
    "                In = np.zeros((n, n), np.uint8)\n",
    "                for i in range(n):\n",
    "                    In[i, i] =1\n",
    "                return In\n",
    "        X1 = make_I(N)\n",
    "        for i in range(N):\n",
    "            if show:\n",
    "                print(i)\n",
    "            C = make_I(N)\n",
    "            for j in range(N):\n",
    "                C[j, i] = self.multi(X[j, i], self.reserve_e(X[i,i]))\n",
    "            C[i,i] = self.reserve_e(X[i,i])\n",
    "            X = self.multi(C,X)\n",
    "            X1 = self.multi(C,X1)\n",
    "        return X1\n",
    "    \n",
    "def Resever(X, gl32):\n",
    "    A = X.copy()\n",
    "    size= A.shape\n",
    "    if size[0]!=size[1]:\n",
    "        print(\"Maxtrix is not square!\")\n",
    "        return None\n",
    "    E = np.zeros_like(A)\n",
    "    for i in range(E.shape[0]):\n",
    "        E[i, i] =1\n",
    "        \n",
    "    def process_row( i, Ax, Ex):\n",
    "        A = Ax.copy()\n",
    "        E = Ex.copy()\n",
    "        for j in range(i):\n",
    "            if A[i, j]!=0:\n",
    "                x = gl32.reserve_e(A[i, j])\n",
    "                A[i] = gl32.multi(A[i], x)\n",
    "                E[i] = gl32.multi(E[i], x)\n",
    "                A[i] = gl32.add(A[i], A[j])\n",
    "                E[i] =  gl32.add(E[i],E[j])\n",
    "                \n",
    "        if A[i, i]>1:\n",
    "            x = gl32.reserve_e(A[i, i])\n",
    "            A[i] = gl32.multi(A[i], x)\n",
    "            E[i] = gl32.multi(E[i], x)\n",
    "        return A, E\n",
    "            \n",
    "    # Convert to up triangle matrix\n",
    "    i = 0\n",
    "    stt = 0\n",
    "    while i < size[0]:\n",
    "        A, E = process_row(i, A, E)\n",
    "        stt+=1\n",
    "        if A[i, i]==0:\n",
    "            if stt>size[0]-i+1:\n",
    "                print(\"matrix is not ivertable\")\n",
    "                return 0\n",
    "            A[i:-1], A[-1] = A[i+1:].copy(), A[i].copy()\n",
    "            E[i:-1], E[-1] = E[i+1:].copy(), E[i].copy()\n",
    "        else:\n",
    "            stt= 0\n",
    "            i+=1\n",
    "            \n",
    "    # Convert to E\n",
    "    for i in range(size[0]):\n",
    "        for j in range(i+1, size[1]):\n",
    "            if A[i, j]!=0:\n",
    "                for x in range(32):\n",
    "                    if gl32.multi(x, 1)==A[i, j]:\n",
    "                        A[i] = gl32.add(A[i] , gl32.multi(A[j], x))\n",
    "                        E[i] = gl32.add(E[i] , gl32.multi(E[j], x))\n",
    "                        break\n",
    "\n",
    "    return E\n",
    "\n",
    "def Rank(Zx, gl32):\n",
    "    Z = Zx.copy()\n",
    "    index = []\n",
    "    i =-1\n",
    "    stt = -1\n",
    "    while i <np.min(Zx.shape)-1 and Z.shape[0]>=np.min(Zx.shape):\n",
    "        i+=1\n",
    "        stt+=1\n",
    "        for j in range(i):\n",
    "            if Z[i, j]!=0:\n",
    "                x = 0\n",
    "                for k in range(32):\n",
    "                    if gl32.multi(k, Z[i, j])==Z[j, j]:\n",
    "                        x = k\n",
    "                        break  \n",
    "                Z[i] = gl32.multi(Z[i], x)\n",
    "                Z[i] = gl32.add(Z[i], Z[j])\n",
    "        ok = True\n",
    "        if Z[i, i]==0:\n",
    "            ok = False\n",
    "            for j in range(i+1, G):\n",
    "                if Z[i, j]!=0:\n",
    "                    Z[:,i], Z[:, j] = Z[:, j].copy(), Z[:, i].copy()\n",
    "                    ok = True\n",
    "                    break\n",
    "        if ok:\n",
    "            index.append(stt)\n",
    "        else:\n",
    "            Z = np.delete(Z, i, 0)\n",
    "            i-=1\n",
    "    return len(index), index"
   ]
  },
  {
   "cell_type": "code",
   "execution_count": 81,
   "metadata": {
    "ExecuteTime": {
     "end_time": "2020-04-09T16:06:09.638339Z",
     "start_time": "2020-04-09T16:06:09.616398Z"
    }
   },
   "outputs": [
    {
     "name": "stdout",
     "output_type": "stream",
     "text": [
      "(2, 4)\n",
      "(14, 28)\n"
     ]
    }
   ],
   "source": [
    "gl32 = GF([3,  1, 0])\n",
    "N = gl32.q-1\n",
    "\n",
    "x = np.ones(N, np.uint8)\n",
    "y = np.arange(1, N+1)\n",
    "f0 = gl32.add(x, y)\n",
    "Q = np.zeros((N, N), np.uint8)\n",
    "Q[0] = f0.copy()\n",
    "for i in range(1, N):\n",
    "    Q[i] = np.roll(gl32.multi(Q[i-1], 2), 1)\n",
    "    \n",
    "    \n",
    "N1 = 2\n",
    "N2= 4\n",
    "\n",
    "\n",
    "    \n",
    "H_base = Q[:N1, N1:N2+N1]\n",
    "\n",
    "print(H_base.shape)\n",
    "H = np.zeros((N1*N, N2*N))\n",
    "for i in range(N1):\n",
    "    for j in range(N2):\n",
    "        if H_base[i, j]!=0:\n",
    "            sub_matrix = gl32.make_sub_matrix(H_base[i, j])\n",
    "            H[i*N:(i+1)*N, j*N:(j+1)*N] = sub_matrix\n",
    "#H = H[0:18]\n",
    "#H=H[:14]\n",
    "print(H.shape)\n",
    "# for i in range(H.shape[0]):\n",
    "#     for j in range(H.shape[1]):\n",
    "#         if H[i, j ]!=0:\n",
    "#             H[i,j] = np.random.randint(1, gl32.q)\n",
    "def check_errors(Ht, min_cw):\n",
    "    stt = 0\n",
    "    for i in range(min_cw-1, Ht.shape[0]):\n",
    "        for j in range(Ht.shape[1]+min_cw -1-i, Ht.shape[1]):\n",
    "            if Ht[i, j]!=0:\n",
    "                stt +=1\n",
    "    print(min_cw-2, stt)\n",
    "def savetxt(file, X):\n",
    "    l =  2\n",
    "    with open(file, 'w') as f:\n",
    "        for row in X:\n",
    "            for e in row:\n",
    "                s = \"\"\n",
    "                s = \" \" +str(int(e))+ \",\" if e <10 else str(int(e))+\",\"\n",
    "                f.write(s)\n",
    "            f.write(\"\\n\")\n",
    "H=H[:12]\n",
    "np.save(\"H.npy\", H)\n",
    "H[:, -3], H[:, -10] = H[:, -10].copy(), H[:, -3].copy() \n",
    "H[:, -8], H[:, -9] = H[:, -9].copy(), H[:, -8].copy() \n",
    "H[:, -8], H[:, -1] = H[:, -1].copy(), H[:, -8].copy() \n",
    "H= np.roll(H, 2, axis=0)\n",
    "H[:, -5], H[:, -15] = H[:, -15].copy(), H[:, -5].copy() \n",
    "H[:, -1], H[:, -12] = H[:, -12].copy(), H[:, -1].copy()\n",
    "H[:, -9], H[:, -11] = H[:, -11].copy(), H[:, -9].copy() \n",
    "H[:, -4], H[:, -21] = H[:, -21].copy(), H[:, -4].copy() \n",
    "H[:, -2], H[:, -9] = H[:, -9].copy(), H[:, -2].copy() \n",
    "H[:, -1], H[:, -23] = H[:, -23].copy(), H[:, -1].copy() \n",
    "H[8], H[9] = H[9].copy(), H[8].copy()\n",
    "H[11], H[9] = H[9].copy(), H[11].copy()\n",
    "H[10], H[7] = H[7].copy(), H[10].copy()\n",
    "H[:, -2], H[:, -5] = H[:, -5].copy(), H[:, -2].copy() \n",
    "H[:, -1], H[:, -21] = H[:, -21].copy(), H[:, -1].copy() \n",
    "#H[:, -2], H[:, -24] = H[:, -24].copy(), H[:, -2].copy() \n",
    "# H[6], H[11] = H[11].copy(), H[6].copy()\n",
    "# H[7], H[9] = H[9].copy(), H[7].copy()\n",
    "# H[8], H[13] = H[13].copy(), H[8].copy()\n",
    "# H[:, -16], H[:, -1] = H[:, -1].copy(), H[:, -16].copy() \n",
    "# H[:, -2], H[:, -11] = H[:, -11].copy(), H[:, -2].copy() \n",
    "# H[:, -1], H[:, -21] = H[:, -21].copy(), H[:, -1].copy() \n",
    "# H[5], H[10] = H[10].copy(), H[5].copy()\n",
    "# H[8], H[10] = H[10].copy(), H[8].copy()\n",
    "# H= np.roll(H, 1, axis=0)\n",
    "# H[:, -2], H[:, -15] = H[:, -15].copy(), H[:, -2].copy() \n",
    "# H[:, -7], H[:, -17] = H[:, -17].copy(), H[:, -7].copy()\n",
    "# H[:, -15], H[:, -11] = H[:, -11].copy(), H[:, -15].copy()\n",
    "# H= np.roll(H, 1, axis=0)\n",
    "# H[:, -16], H[:, -10] = H[:, -10].copy(), H[:, -16].copy()\n",
    "# H[:, -14], H[:, -12] = H[:, -12].copy(), H[:, -14].copy()\n",
    "# H[:, -19], H[:, -9] = H[:, -9].copy(), H[:, -19].copy()\n",
    "# H=H[:12]\n",
    "savetxt(\"H.txt\", H)\n",
    "Ht=H.copy()"
   ]
  },
  {
   "cell_type": "code",
   "execution_count": 57,
   "metadata": {
    "ExecuteTime": {
     "end_time": "2020-04-07T15:24:15.817131Z",
     "start_time": "2020-04-07T15:24:15.725132Z"
    },
    "code_folding": [
     0
    ]
   },
   "outputs": [
    {
     "name": "stdout",
     "output_type": "stream",
     "text": [
      "0 0\n",
      "1 0\n",
      "2 0\n",
      "3 0\n",
      "4 0\n",
      "5 0\n",
      "6 0\n",
      "7 0\n",
      "8 0\n",
      "9 0\n",
      "10 0\n",
      "11 0\n",
      "12 0\n"
     ]
    },
    {
     "ename": "IndexError",
     "evalue": "index 14 is out of bounds for axis 0 with size 14",
     "output_type": "error",
     "traceback": [
      "\u001b[1;31m---------------------------------------------------------------------------\u001b[0m",
      "\u001b[1;31mIndexError\u001b[0m                                Traceback (most recent call last)",
      "\u001b[1;32m<ipython-input-57-8f6f3a8874df>\u001b[0m in \u001b[0;36m<module>\u001b[1;34m\u001b[0m\n\u001b[0;32m    107\u001b[0m \u001b[1;33m\u001b[0m\u001b[0m\n\u001b[0;32m    108\u001b[0m \u001b[1;32mfor\u001b[0m \u001b[0mi\u001b[0m \u001b[1;32min\u001b[0m \u001b[0mrange\u001b[0m\u001b[1;33m(\u001b[0m\u001b[1;36m14\u001b[0m\u001b[1;33m)\u001b[0m\u001b[1;33m:\u001b[0m\u001b[1;33m\u001b[0m\u001b[1;33m\u001b[0m\u001b[0m\n\u001b[1;32m--> 109\u001b[1;33m     \u001b[0mRun\u001b[0m\u001b[1;33m(\u001b[0m\u001b[0mH\u001b[0m\u001b[1;33m,\u001b[0m \u001b[0mi\u001b[0m\u001b[1;33m)\u001b[0m\u001b[1;33m\u001b[0m\u001b[1;33m\u001b[0m\u001b[0m\n\u001b[0m",
      "\u001b[1;32m<ipython-input-57-8f6f3a8874df>\u001b[0m in \u001b[0;36mRun\u001b[1;34m(Hx, margin)\u001b[0m\n\u001b[0;32m     70\u001b[0m         \u001b[1;31m#H = H[::-1]\u001b[0m\u001b[1;33m\u001b[0m\u001b[1;33m\u001b[0m\u001b[1;33m\u001b[0m\u001b[0m\n\u001b[0;32m     71\u001b[0m         \u001b[1;32mreturn\u001b[0m \u001b[0mH\u001b[0m\u001b[1;33m,\u001b[0m \u001b[0mmin_cw\u001b[0m\u001b[1;33m\u001b[0m\u001b[1;33m\u001b[0m\u001b[0m\n\u001b[1;32m---> 72\u001b[1;33m     \u001b[0mHt\u001b[0m\u001b[1;33m,\u001b[0m \u001b[0mmin_cw\u001b[0m \u001b[1;33m=\u001b[0m \u001b[0mcompute_Ht\u001b[0m\u001b[1;33m(\u001b[0m\u001b[0mH\u001b[0m\u001b[1;33m,\u001b[0m \u001b[0mmargin\u001b[0m\u001b[1;33m=\u001b[0m\u001b[0mmargin\u001b[0m\u001b[1;33m)\u001b[0m\u001b[1;33m\u001b[0m\u001b[1;33m\u001b[0m\u001b[0m\n\u001b[0m\u001b[0;32m     73\u001b[0m     \u001b[1;31m#check_errors(Ht, min_cw)\u001b[0m\u001b[1;33m\u001b[0m\u001b[1;33m\u001b[0m\u001b[1;33m\u001b[0m\u001b[0m\n\u001b[0;32m     74\u001b[0m     \u001b[1;32mdef\u001b[0m \u001b[0mget_length_tail\u001b[0m\u001b[1;33m(\u001b[0m\u001b[0mrow\u001b[0m\u001b[1;33m)\u001b[0m\u001b[1;33m:\u001b[0m\u001b[1;33m\u001b[0m\u001b[1;33m\u001b[0m\u001b[0m\n",
      "\u001b[1;32m<ipython-input-57-8f6f3a8874df>\u001b[0m in \u001b[0;36mcompute_Ht\u001b[1;34m(H, margin)\u001b[0m\n\u001b[0;32m     63\u001b[0m                         \u001b[0mH\u001b[0m\u001b[1;33m[\u001b[0m\u001b[0mj\u001b[0m\u001b[1;33m]\u001b[0m\u001b[1;33m=\u001b[0m \u001b[0mtemp\u001b[0m\u001b[1;33m\u001b[0m\u001b[1;33m\u001b[0m\u001b[0m\n\u001b[0;32m     64\u001b[0m         \u001b[0mtemp\u001b[0m \u001b[1;33m=\u001b[0m \u001b[0mH\u001b[0m\u001b[1;33m[\u001b[0m\u001b[1;36m0\u001b[0m\u001b[1;33m]\u001b[0m\u001b[1;33m.\u001b[0m\u001b[0mcopy\u001b[0m\u001b[1;33m(\u001b[0m\u001b[1;33m)\u001b[0m\u001b[1;33m\u001b[0m\u001b[1;33m\u001b[0m\u001b[0m\n\u001b[1;32m---> 65\u001b[1;33m         \u001b[0mH\u001b[0m\u001b[1;33m[\u001b[0m\u001b[1;36m0\u001b[0m\u001b[1;33m]\u001b[0m \u001b[1;33m=\u001b[0m \u001b[0mH\u001b[0m\u001b[1;33m[\u001b[0m\u001b[0mmin_cw\u001b[0m\u001b[1;33m+\u001b[0m\u001b[0mmargin\u001b[0m\u001b[1;33m-\u001b[0m\u001b[1;36m1\u001b[0m\u001b[1;33m]\u001b[0m\u001b[1;33m.\u001b[0m\u001b[0mcopy\u001b[0m\u001b[1;33m(\u001b[0m\u001b[1;33m)\u001b[0m\u001b[1;33m\u001b[0m\u001b[1;33m\u001b[0m\u001b[0m\n\u001b[0m\u001b[0;32m     66\u001b[0m         \u001b[0mH\u001b[0m\u001b[1;33m[\u001b[0m\u001b[0mmin_cw\u001b[0m\u001b[1;33m+\u001b[0m\u001b[0mmargin\u001b[0m\u001b[1;33m-\u001b[0m\u001b[1;36m1\u001b[0m\u001b[1;33m]\u001b[0m \u001b[1;33m=\u001b[0m \u001b[0mtemp\u001b[0m\u001b[1;33m\u001b[0m\u001b[1;33m\u001b[0m\u001b[0m\n\u001b[0;32m     67\u001b[0m         \u001b[0mmin_cw\u001b[0m\u001b[1;33m+=\u001b[0m\u001b[0mmargin\u001b[0m\u001b[1;33m\u001b[0m\u001b[1;33m\u001b[0m\u001b[0m\n",
      "\u001b[1;31mIndexError\u001b[0m: index 14 is out of bounds for axis 0 with size 14"
     ]
    }
   ],
   "source": [
    "def Run(Hx, margin):\n",
    "    H = Hx.copy()\n",
    "    H[H!=0]=1\n",
    "    def get_colum_weights(H):\n",
    "        H_zeros = H.copy()\n",
    "        H_zeros[H!=0]=1\n",
    "        colum_weights = np.sum(H_zeros, axis=0)\n",
    "        return colum_weights\n",
    "\n",
    "    def satisfy(H, colum, start_index):\n",
    "        #print(\"check H at colum\", colum, start_index)\n",
    "        #print(H)\n",
    "        done = False\n",
    "        colum_value = H[:, colum].copy()\n",
    "        sorted_index = np.argsort(colum_value)[::-1]\n",
    "        colum_value[colum_value!=0]=1\n",
    "        n = np.sum(colum_value)\n",
    "        if H[start_index, colum]!=0:\n",
    "            for i in range(start_index+1, H.shape[0]):\n",
    "                if H[i, colum]!=0:\n",
    "                    #print(\"conflict at row:\", i)\n",
    "                    for j in range(colum):\n",
    "                        if H[start_index, j]!=0 and np.sum(H[start_index+1:, j])==0:\n",
    "                            #print(\"swap colum:\", colum, j)\n",
    "                            temp = H[:, colum].copy()\n",
    "                            H[:, colum] = H[:, j]\n",
    "                            H[:, j] = temp\n",
    "                            break\n",
    "            #print(\"#\"*20)\n",
    "        else:\n",
    "            found_row = False\n",
    "            for i in range(start_index+1, H.shape[0]):\n",
    "                if H[i, colum]!=0:\n",
    "                    found_row =True\n",
    "                    #print(\"swap row:\", start_index, i)\n",
    "                    temp = H[i].copy()\n",
    "                    H[i] = H[start_index]\n",
    "                    H[start_index]= temp\n",
    "                    satisfy(H, colum, start_index)  \n",
    "                    break \n",
    "            if not found_row:\n",
    "                for j in range(colum):\n",
    "                        if H[start_index, j]!=0 and np.sum(H[start_index+1:, j])==0:\n",
    "                            #print(\"swap colum:\", colum, j)\n",
    "                            temp = H[:, colum].copy()\n",
    "                            H[:, colum] = H[:, j].copy()\n",
    "                            H[:, j] = temp\n",
    "                            satisfy(H, colum, start_index) \n",
    "                            break   \n",
    "\n",
    "    def compute_Ht(H, margin):\n",
    "        colum_weights = get_colum_weights(H)\n",
    "        sorted_index = np.argsort(colum_weights)\n",
    "        H = H[:, sorted_index[::-1]]\n",
    "        colum_weights = get_colum_weights(H)\n",
    "        min_cw = int(colum_weights[-1])\n",
    "        for i in range(min_cw):\n",
    "            if H[i, -1]==0:\n",
    "                for j in range(i+1, H.shape[0]):\n",
    "                    if H[j, -1]!=0:\n",
    "                        temp = H[i].copy()\n",
    "                        H[i] = H[j]\n",
    "                        H[j]= temp\n",
    "        temp = H[0].copy()\n",
    "        H[0] = H[min_cw+margin-1].copy()\n",
    "        H[min_cw+margin-1] = temp\n",
    "        min_cw+=margin\n",
    "        for i in range(1, H.shape[0]-min_cw+1):\n",
    "            satisfy(H, H.shape[1]-1-i, min_cw+i-1)\n",
    "        #H = H[::-1]\n",
    "        return H, min_cw\n",
    "    Ht, min_cw = compute_Ht(H, margin=margin)\n",
    "    #check_errors(Ht, min_cw)\n",
    "    def get_length_tail(row):\n",
    "        for i in range(len(row)):\n",
    "            if row[i]!=0:\n",
    "                return i\n",
    "    def get_length_tail_true(min_cw, length):\n",
    "        return min_cw-1+length\n",
    "\n",
    "    for i in range(0, min_cw):\n",
    "        lt = get_length_tail(list(reversed(Ht[i])))\n",
    "        row = get_length_tail_true(min_cw, lt)\n",
    "        if lt< H.shape[0] - min_cw:\n",
    "            lt2 = get_length_tail(list(reversed(Ht[row])))\n",
    "            if lt2<lt:\n",
    "                temp = Ht[i].copy()\n",
    "                Ht[i] = Ht[row]\n",
    "                Ht[row] = temp\n",
    "                #print(\"swap row\", i, \"with row\", row)\n",
    "\n",
    "    H2 = Ht.copy()\n",
    "    #check_errors(Ht, min_cw)\n",
    "    Ht = H2.copy()\n",
    "    for i in range(Ht.shape[1] - Ht.shape[0]+ min_cw):\n",
    "        lt = get_length_tail(list(reversed(Ht[:, i])))\n",
    "        collum = H.shape[1] - 1 - (H.shape[0] - lt - min_cw)\n",
    "        if lt < H.shape[0] - min_cw:\n",
    "            lt2 = get_length_tail(list(reversed(Ht[:, collum])))\n",
    "            if lt2<lt:\n",
    "                #print(\"swap collum\", i, \"with collum\", collum)\n",
    "                temp = Ht[:, i].copy()\n",
    "                Ht[:, i] = Ht[:, collum]\n",
    "                Ht[:, collum] = temp\n",
    "    check_errors(Ht, min_cw) \n",
    "    np.savetxt(\"Ht.txt\",Ht.astype(np.uint8),fmt='%i', delimiter=',');\n",
    "    \n",
    "for i in range(14):\n",
    "    Run(H, i)"
   ]
  },
  {
   "cell_type": "code",
   "execution_count": 113,
   "metadata": {
    "ExecuteTime": {
     "end_time": "2020-04-07T15:55:00.466549Z",
     "start_time": "2020-04-07T15:55:00.433670Z"
    },
    "code_folding": [
     16,
     22,
     63,
     86,
     90,
     93,
     107,
     121
    ]
   },
   "outputs": [
    {
     "name": "stdout",
     "output_type": "stream",
     "text": [
      "13 35 0\n",
      "-2 1\n",
      "-2 1\n",
      "-2 1\n",
      "1\n"
     ]
    }
   ],
   "source": [
    "M = H.shape[0]\n",
    "N = H.shape[1]\n",
    "\n",
    "G = 0\n",
    "\n",
    "print(M, N, G)\n",
    "    \n",
    "def check_I(X):\n",
    "    stt = 0\n",
    "    r = True\n",
    "    for i in range(X.shape[0]):\n",
    "        if X[i, i] == 0:\n",
    "            r =  False\n",
    "        else:\n",
    "            stt+=1\n",
    "    return r, stt\n",
    "\n",
    "def get_colum_weights(H):\n",
    "    H_zeros = H.copy()\n",
    "    H_zeros[H!=0]=1\n",
    "    colum_weights = np.sum(H_zeros, axis=0)\n",
    "    return colum_weights\n",
    "\n",
    "def satisfy(H, colum, start_index):\n",
    "    #print(\"check H at colum\", colum, start_index)\n",
    "    #print(H)\n",
    "    done = False\n",
    "    colum_value = H[:, colum].copy()\n",
    "    sorted_index = np.argsort(colum_value)[::-1]\n",
    "    colum_value[colum_value!=0]=1\n",
    "    n = np.sum(colum_value)\n",
    "    if H[start_index, colum]!=0:\n",
    "        for i in range(start_index+1, H.shape[0]):\n",
    "            if H[i, colum]!=0:\n",
    "                #print(\"conflict at row:\", i)\n",
    "                for j in range(colum):\n",
    "                    if H[start_index, j]!=0 and np.sum(H[start_index+1:, j])==0:\n",
    "                        #print(\"swap colum:\", colum, j)\n",
    "                        temp = H[:, colum].copy()\n",
    "                        H[:, colum] = H[:, j]\n",
    "                        H[:, j] = temp\n",
    "                        break\n",
    "        #print(\"#\"*20)\n",
    "    else:\n",
    "        found_row = False\n",
    "        for i in range(start_index+1, H.shape[0]):\n",
    "            if H[i, colum]!=0:\n",
    "                found_row =True\n",
    "                #print(\"swap row:\", start_index, i)\n",
    "                temp = H[i].copy()\n",
    "                H[i] = H[start_index]\n",
    "                H[start_index]= temp\n",
    "                satisfy(H, colum, start_index)  \n",
    "                break \n",
    "        if not found_row:\n",
    "            for j in range(colum):\n",
    "                    if H[start_index, j]!=0 and np.sum(H[start_index+1:, j])==0:\n",
    "                        #print(\"swap colum:\", colum, j)\n",
    "                        temp = H[:, colum].copy()\n",
    "                        H[:, colum] = H[:, j].copy()\n",
    "                        H[:, j] = temp\n",
    "                        satisfy(H, colum, start_index) \n",
    "                        break   \n",
    "\n",
    "def compute_Ht(H, margin):\n",
    "    colum_weights = get_colum_weights(H)\n",
    "    sorted_index = np.argsort(colum_weights)\n",
    "    H = H[:, sorted_index[::-1]]\n",
    "    colum_weights = get_colum_weights(H)\n",
    "    min_cw = int(colum_weights[-1])\n",
    "    for i in range(min_cw):\n",
    "        if H[i, -1]==0:\n",
    "            for j in range(i+1, H.shape[0]):\n",
    "                if H[j, -1]!=0:\n",
    "                    temp = H[i].copy()\n",
    "                    H[i] = H[j]\n",
    "                    H[j]= temp\n",
    "    temp = H[0].copy()\n",
    "    H[0] = H[min_cw+margin-1].copy()\n",
    "    H[min_cw+margin-1] = temp\n",
    "    min_cw+=margin\n",
    "    for i in range(1, H.shape[0]-min_cw+1):\n",
    "        satisfy(H, H.shape[1]-1-i, min_cw+i-1)\n",
    "    #H = H[::-1]\n",
    "    return H, min_cw\n",
    "Ht, min_cw = compute_Ht(H, G-1)\n",
    "check_errors(Ht, min_cw)\n",
    "def get_length_tail(row):\n",
    "    for i in range(len(row)):\n",
    "        if row[i]!=0:\n",
    "            return i\n",
    "def get_length_tail_true(min_cw, length):\n",
    "    return min_cw-1+length\n",
    "\n",
    "for i in range(0, min_cw):\n",
    "    lt = get_length_tail(list(reversed(Ht[i])))\n",
    "    row = get_length_tail_true(min_cw, lt)\n",
    "    if lt< H.shape[0] - min_cw:\n",
    "        lt2 = get_length_tail(list(reversed(Ht[row])))\n",
    "        if lt2<lt:\n",
    "            temp = Ht[i].copy()\n",
    "            Ht[i] = Ht[row]\n",
    "            Ht[row] = temp\n",
    "            print(\"swap row\", i, \"with row\", row)\n",
    "        \n",
    "H2 = Ht.copy()\n",
    "check_errors(Ht, min_cw)\n",
    "Ht = H2.copy()\n",
    "for i in range(Ht.shape[1] - Ht.shape[0]+ min_cw):\n",
    "    lt = get_length_tail(list(reversed(Ht[:, i])))\n",
    "    collum = H.shape[1] - 1 - (H.shape[0] - lt - min_cw)\n",
    "    if lt < H.shape[0] - min_cw:\n",
    "        lt2 = get_length_tail(list(reversed(Ht[:, collum])))\n",
    "        if lt2<lt:\n",
    "            print(\"swap collum\", i, \"with collum\", collum)\n",
    "            temp = Ht[:, i].copy()\n",
    "            Ht[:, i] = Ht[:, collum]\n",
    "            Ht[:, collum] = temp\n",
    "check_errors(Ht, min_cw) \n",
    "Ht = Ht[::-1]\n",
    "stt = 0\n",
    "G=0\n",
    "for i in range(M-G):\n",
    "    for j in range(N+G-M+i+1,N):\n",
    "        if Ht[i, j] != 0:\n",
    "            stt+=1\n",
    "            Ht[i, j]=0\n",
    "savetxt(\"Ht.txt\",Ht.astype(np.uint8))\n",
    "print(stt)"
   ]
  },
  {
   "cell_type": "code",
   "execution_count": 43,
   "metadata": {
    "ExecuteTime": {
     "end_time": "2020-04-09T11:16:15.220277Z",
     "start_time": "2020-04-09T11:16:15.210306Z"
    }
   },
   "outputs": [
    {
     "name": "stdout",
     "output_type": "stream",
     "text": [
      "12 28 0\n",
      "[[1. 0. 0. 0. 0. 0. 0. 0. 0. 0. 0. 0.]\n",
      " [0. 4. 0. 0. 0. 0. 0. 0. 0. 0. 0. 0.]\n",
      " [0. 0. 6. 0. 0. 0. 0. 0. 0. 0. 0. 0.]\n",
      " [0. 0. 0. 3. 0. 0. 0. 0. 0. 0. 0. 0.]\n",
      " [1. 0. 0. 0. 7. 0. 0. 0. 0. 0. 0. 0.]\n",
      " [0. 0. 0. 0. 0. 5. 0. 0. 0. 0. 0. 0.]\n",
      " [0. 0. 0. 0. 0. 0. 2. 0. 0. 0. 0. 0.]\n",
      " [0. 0. 6. 0. 0. 0. 0. 3. 0. 0. 0. 0.]\n",
      " [0. 0. 0. 0. 0. 5. 0. 0. 4. 0. 0. 0.]\n",
      " [0. 0. 0. 3. 0. 0. 2. 0. 0. 5. 0. 0.]\n",
      " [0. 4. 0. 0. 0. 0. 0. 3. 0. 0. 7. 0.]\n",
      " [0. 0. 0. 0. 7. 0. 0. 0. 0. 0. 0. 1.]]\n"
     ]
    }
   ],
   "source": [
    "M = H.shape[0]\n",
    "N = H.shape[1]\n",
    "G = 0\n",
    "print(M, N, G)\n",
    "T = Ht[:M-G,N-M+G:]\n",
    "print(T)\n",
    "T2 = Resever(T, gl32)\n",
    "E = Ht[M-G:,N-M+G:]"
   ]
  },
  {
   "cell_type": "code",
   "execution_count": 44,
   "metadata": {
    "ExecuteTime": {
     "end_time": "2020-04-09T11:16:18.097706Z",
     "start_time": "2020-04-09T11:16:18.082747Z"
    }
   },
   "outputs": [
    {
     "name": "stdout",
     "output_type": "stream",
     "text": [
      "[[1 0 0 0 0 0 0 0 0 0 0 0]\n",
      " [0 1 0 0 0 0 0 0 0 0 0 0]\n",
      " [0 0 1 0 0 0 0 0 0 0 0 0]\n",
      " [0 0 0 1 0 0 0 0 0 0 0 0]\n",
      " [0 0 0 0 1 0 0 0 0 0 0 0]\n",
      " [0 0 0 0 0 1 0 0 0 0 0 0]\n",
      " [0 0 0 0 0 0 1 0 0 0 0 0]\n",
      " [0 0 0 0 0 0 0 1 0 0 0 0]\n",
      " [0 0 0 0 0 0 0 0 1 0 0 0]\n",
      " [0 0 0 0 0 0 0 0 0 1 0 0]\n",
      " [0 0 0 0 0 0 0 0 0 0 1 0]\n",
      " [0 0 0 0 0 0 0 0 0 0 0 1]]\n"
     ]
    }
   ],
   "source": [
    "print(gl32.multi(T, T2))"
   ]
  },
  {
   "cell_type": "code",
   "execution_count": 45,
   "metadata": {
    "ExecuteTime": {
     "end_time": "2020-04-09T11:16:18.673855Z",
     "start_time": "2020-04-09T11:16:18.666874Z"
    }
   },
   "outputs": [],
   "source": [
    "savetxt(\"Ht.txt\",Ht.astype(np.uint8));\n",
    "savetxt(\"T.txt\",T.astype(np.uint8));\n",
    "savetxt(\"E.txt\",E.astype(np.uint8));"
   ]
  },
  {
   "cell_type": "code",
   "execution_count": 46,
   "metadata": {
    "ExecuteTime": {
     "end_time": "2020-04-09T11:16:19.168828Z",
     "start_time": "2020-04-09T11:16:19.153210Z"
    }
   },
   "outputs": [
    {
     "name": "stdout",
     "output_type": "stream",
     "text": [
      "[]\n"
     ]
    }
   ],
   "source": [
    "X = Ht[:M-G, :N+G-M]\n",
    "Y = Ht[M-G:, :N+G-M]\n",
    "savetxt(\"X.txt\",X.astype(np.uint8));\n",
    "savetxt(\"Y.txt\",Y.astype(np.uint8));\n",
    "ET2 = gl32.multi(E, T2)\n",
    "print(ET2)\n",
    "ET2XY  = gl32.add(gl32.multi(ET2, X), Y)"
   ]
  },
  {
   "cell_type": "code",
   "execution_count": 47,
   "metadata": {
    "ExecuteTime": {
     "end_time": "2020-04-09T11:16:19.511082Z",
     "start_time": "2020-04-09T11:16:19.506087Z"
    }
   },
   "outputs": [],
   "source": [
    "Z = ET2XY.transpose().copy()\n",
    "savetxt(\"Z.txt\",Z.astype(np.uint8));\n",
    "rank , index = Rank(Z, gl32)"
   ]
  },
  {
   "cell_type": "code",
   "execution_count": 48,
   "metadata": {
    "ExecuteTime": {
     "end_time": "2020-04-09T11:16:19.807006Z",
     "start_time": "2020-04-09T11:16:19.802989Z"
    }
   },
   "outputs": [
    {
     "name": "stdout",
     "output_type": "stream",
     "text": [
      "[]\n"
     ]
    }
   ],
   "source": [
    "print(index)"
   ]
  },
  {
   "cell_type": "code",
   "execution_count": 49,
   "metadata": {
    "ExecuteTime": {
     "end_time": "2020-04-09T11:16:20.095665Z",
     "start_time": "2020-04-09T11:16:20.089681Z"
    }
   },
   "outputs": [],
   "source": [
    "Htd = Ht.copy()\n",
    "Htd[:, N-M:N-M+G], Htd[:, index] = Ht[:, index], Ht[:, N-M:N-M+G]\n",
    "savetxt(\"Htd.txt\", Htd.astype(np.uint8));"
   ]
  },
  {
   "cell_type": "code",
   "execution_count": 50,
   "metadata": {
    "ExecuteTime": {
     "end_time": "2020-04-09T11:16:20.271011Z",
     "start_time": "2020-04-09T11:16:20.266025Z"
    }
   },
   "outputs": [],
   "source": [
    "A = Htd[:M-G,:N-M]\n",
    "B = Htd[:M-G, N-M:N-M+G]\n",
    "C = Htd[M-G:, :N-M]\n",
    "D = Htd[M-G:, N-M:N-M+G]\n",
    "# np.save(\"Htd.npy\", Htd)\n",
    "# np.save(\"A.npy\", A)\n",
    "# np.save(\"B.npy\", B)\n",
    "# np.save(\"T.npy\", T)\n",
    "# np.save(\"C.npy\", C)\n",
    "# np.save(\"D.npy\", D)\n",
    "# np.save(\"E.npy\", E)\n",
    "\n",
    "np.savetxt(\"D.txt\",D.astype(np.uint8),fmt='%i', delimiter=',');"
   ]
  },
  {
   "cell_type": "code",
   "execution_count": 51,
   "metadata": {
    "ExecuteTime": {
     "end_time": "2020-04-09T11:16:20.460420Z",
     "start_time": "2020-04-09T11:16:20.451432Z"
    }
   },
   "outputs": [
    {
     "name": "stdout",
     "output_type": "stream",
     "text": [
      "[]\n"
     ]
    }
   ],
   "source": [
    "C2 =gl32.add(gl32.multi(gl32.multi(E, T2), A), C)\n",
    "D2 =gl32.add(gl32.multi(gl32.multi(E, T2), B), D)\n",
    "print(D2)\n",
    "np.savetxt(\"D2.txt\",D2.astype(np.uint8),fmt='%i', delimiter=',');\n",
    "D3 = Resever(D2, gl32)\n",
    "np.savetxt(\"D3.txt\",D3.astype(np.uint8),fmt='%i', delimiter=',');\n",
    "D3C2 = gl32.multi(D3, C2)\n",
    "np.savetxt(\"D3C2.txt\",D3C2.astype(np.uint8),fmt='%i', delimiter=',');"
   ]
  },
  {
   "cell_type": "code",
   "execution_count": 52,
   "metadata": {
    "ExecuteTime": {
     "end_time": "2020-04-09T11:16:20.797037Z",
     "start_time": "2020-04-09T11:16:20.777114Z"
    }
   },
   "outputs": [],
   "source": [
    "BD3C2 = gl32.multi(B, D3C2)\n",
    "ABD3C2 = gl32.add(A, BD3C2)\n",
    "T2ABD3C2 = gl32.multi(T2,ABD3C2)"
   ]
  },
  {
   "cell_type": "code",
   "execution_count": 53,
   "metadata": {
    "ExecuteTime": {
     "end_time": "2020-04-09T11:16:20.974231Z",
     "start_time": "2020-04-09T11:16:20.962258Z"
    }
   },
   "outputs": [
    {
     "name": "stdout",
     "output_type": "stream",
     "text": [
      "[[4]\n",
      " [2]\n",
      " [2]\n",
      " [0]\n",
      " [3]\n",
      " [2]\n",
      " [3]\n",
      " [2]\n",
      " [4]\n",
      " [7]\n",
      " [1]\n",
      " [2]\n",
      " [7]\n",
      " [5]\n",
      " [3]\n",
      " [5]\n",
      " [7]\n",
      " [5]\n",
      " [1]\n",
      " [0]\n",
      " [3]\n",
      " [1]\n",
      " [3]\n",
      " [4]\n",
      " [4]\n",
      " [4]\n",
      " [5]\n",
      " [1]]\n",
      "##############################\n",
      "[[0]\n",
      " [0]\n",
      " [0]\n",
      " [0]\n",
      " [0]\n",
      " [0]\n",
      " [0]\n",
      " [0]\n",
      " [0]\n",
      " [0]\n",
      " [0]\n",
      " [0]]\n"
     ]
    }
   ],
   "source": [
    "u = np.random.randint(0, gl32.q, H.shape[1] - H.shape[0]).reshape(N-M, 1)\n",
    "p1 = gl32.multi(D3C2, u)\n",
    "Au = gl32.multi(A, u)\n",
    "Bp1 = gl32.multi(B, p1)\n",
    "p2 = gl32.multi(T2, gl32.add(Au, Bp1))\n",
    "y = np.concatenate((u, p1, p2))\n",
    "print(y)\n",
    "print(\"#\"*30)\n",
    "print(gl32.multi(Htd, y))"
   ]
  },
  {
   "cell_type": "code",
   "execution_count": 54,
   "metadata": {
    "ExecuteTime": {
     "end_time": "2020-04-09T11:16:21.605993Z",
     "start_time": "2020-04-09T11:16:21.594028Z"
    }
   },
   "outputs": [
    {
     "name": "stdout",
     "output_type": "stream",
     "text": [
      "(0, 16)\n",
      "(12, 16)\n",
      "[[4]\n",
      " [2]\n",
      " [2]\n",
      " [0]\n",
      " [3]\n",
      " [2]\n",
      " [3]\n",
      " [2]\n",
      " [4]\n",
      " [7]\n",
      " [1]\n",
      " [2]\n",
      " [7]\n",
      " [5]\n",
      " [3]\n",
      " [5]\n",
      " [7]\n",
      " [5]\n",
      " [1]\n",
      " [0]\n",
      " [3]\n",
      " [1]\n",
      " [3]\n",
      " [4]\n",
      " [4]\n",
      " [4]\n",
      " [5]\n",
      " [1]]\n",
      "##############################\n",
      "[[0]\n",
      " [0]\n",
      " [0]\n",
      " [0]\n",
      " [0]\n",
      " [0]\n",
      " [0]\n",
      " [0]\n",
      " [0]\n",
      " [0]\n",
      " [0]\n",
      " [0]]\n"
     ]
    }
   ],
   "source": [
    "print(D3C2.shape)\n",
    "print(T2ABD3C2.shape)\n",
    "G = np.concatenate((D3C2, T2ABD3C2))\n",
    "savetxt(\"G.txt\", G)\n",
    "p = gl32.multi(G, u)\n",
    "y = np.concatenate((u, p))\n",
    "print(y)\n",
    "print(\"#\"*30)\n",
    "print(gl32.multi(Htd, y))"
   ]
  },
  {
   "cell_type": "code",
   "execution_count": 56,
   "metadata": {
    "ExecuteTime": {
     "end_time": "2020-04-09T15:46:44.108334Z",
     "start_time": "2020-04-09T15:46:44.089058Z"
    }
   },
   "outputs": [],
   "source": [
    "np.save(\"G.npy\", G)\n",
    "np.save(\"H.npy\", H)"
   ]
  },
  {
   "cell_type": "code",
   "execution_count": null,
   "metadata": {
    "ExecuteTime": {
     "end_time": "2020-04-04T05:38:08.086299Z",
     "start_time": "2020-04-04T05:38:08.082339Z"
    }
   },
   "outputs": [],
   "source": [
    "G2 = Resever(G, gl32)"
   ]
  },
  {
   "cell_type": "code",
   "execution_count": null,
   "metadata": {
    "ExecuteTime": {
     "end_time": "2020-04-04T08:57:32.750697Z",
     "start_time": "2020-04-04T08:57:32.745710Z"
    },
    "code_folding": [
     0
    ]
   },
   "outputs": [],
   "source": [
    "for row in G:\n",
    "    S = \"(\"\n",
    "    for e in row:\n",
    "        S+=str(e)\n",
    "        S+=\", \"\n",
    "    S = S[:-2]\n",
    "    S+=\"),\"\n",
    "    print(S)"
   ]
  },
  {
   "cell_type": "code",
   "execution_count": null,
   "metadata": {
    "ExecuteTime": {
     "end_time": "2020-04-04T08:57:36.766734Z",
     "start_time": "2020-04-04T08:57:36.762744Z"
    }
   },
   "outputs": [],
   "source": [
    "s = \"(\"\n",
    "for i in u:\n",
    "    s+=str(i[0])+\", \"\n",
    "s+=\")\"\n",
    "print(s)"
   ]
  },
  {
   "cell_type": "code",
   "execution_count": null,
   "metadata": {},
   "outputs": [],
   "source": [
    "pi = 0\n",
    "stt = 0\n",
    "for i in range(726):\n",
    "    pi=gl32.add(pi, gl32.multi(u[i][0], G[stt,i]))\n",
    "    print(u[i][0], G[stt,i], pi)"
   ]
  },
  {
   "cell_type": "code",
   "execution_count": null,
   "metadata": {},
   "outputs": [],
   "source": [
    "print(p)"
   ]
  },
  {
   "cell_type": "code",
   "execution_count": null,
   "metadata": {
    "ExecuteTime": {
     "end_time": "2020-02-19T07:05:43.725482Z",
     "start_time": "2020-02-19T07:05:43.712523Z"
    }
   },
   "outputs": [],
   "source": [
    "def nhan_hang(A, i, a):\n",
    "    K = np.zeros_like(A)\n",
    "    for j in range(A.shape[0]):\n",
    "        K[j, j] = a if j==i-1 else 1\n",
    "    return K\n",
    "\n",
    "def doi_hang(A, i, j):\n",
    "    K = np.zeros_like(A)\n",
    "    for k in range(A.shape[0]):\n",
    "        K[k, k] = 1\n",
    "    K[i-1, i-1] = 0\n",
    "    K[j-1, j-1] = 0\n",
    "    K[i-1, j-1]= 1\n",
    "    K[j-1, i-1] = 1\n",
    "    return K\n",
    "\n",
    "def cong_hang(A, a, i, j):\n",
    "    K = np.zeros_like(A)\n",
    "    for k in range(A.shape[0]):\n",
    "        K[k, k] = 1\n",
    "    K[j-1, i-1] = a\n",
    "    return K"
   ]
  },
  {
   "cell_type": "code",
   "execution_count": null,
   "metadata": {
    "ExecuteTime": {
     "end_time": "2020-02-19T07:09:52.887411Z",
     "start_time": "2020-02-19T07:09:52.831561Z"
    }
   },
   "outputs": [],
   "source": [
    "A = np.array([\n",
    "    [2, 0, 1, 0],\n",
    "    [0, 1, 0, 0],\n",
    "    [0, 0, 1, 2],\n",
    "    [0, 1, 0, 2]\n",
    "])\n",
    "K1 = nhan_hang(A, 1, 31)\n",
    "K = K1.copy()\n",
    "A = gl32.multi(K1, A)\n",
    "print(A)\n",
    "print(\"#\"*20)\n",
    "K2 = cong_hang(A, 1, 2, 4)\n",
    "K = gl32.multi(K2, K)\n",
    "A = gl32.multi(K2, A)\n",
    "print(A)\n",
    "print(\"#\"*20)\n",
    "K3 = nhan_hang(A, 4, 31)\n",
    "K = gl32.multi(K3, K)\n",
    "A = gl32.multi(K3, A)\n",
    "print(A)\n",
    "print(\"#\"*20)\n",
    "K4 = cong_hang(A, 31, 3, 1)\n",
    "K = gl32.multi(K4, K)\n",
    "A = gl32.multi(K4, A)\n",
    "print(A)\n",
    "print(\"#\"*20)\n",
    "K5 = cong_hang(A, 1, 4, 1)\n",
    "K = gl32.multi(K5, K)\n",
    "A = gl32.multi(K5, A)\n",
    "print(A)\n",
    "print(\"#\"*20)\n",
    "K6 = cong_hang(A, 2, 4, 3)\n",
    "K = gl32.multi(K6, K)\n",
    "A = gl32.multi(K6, A)\n",
    "print(A)\n",
    "print(\"#\"*20)\n"
   ]
  },
  {
   "cell_type": "code",
   "execution_count": null,
   "metadata": {
    "ExecuteTime": {
     "end_time": "2020-02-19T07:10:54.762415Z",
     "start_time": "2020-02-19T07:10:54.748056Z"
    }
   },
   "outputs": [],
   "source": [
    "A = np.array([\n",
    "    [2, 0, 1, 0],\n",
    "    [0, 1, 0, 0],\n",
    "    [0, 0, 1, 2],\n",
    "    [0, 1, 0, 2]\n",
    "])\n",
    "A2 = gl32.multi(A, K)\n",
    "print(K)\n",
    "print(A2)"
   ]
  },
  {
   "cell_type": "code",
   "execution_count": null,
   "metadata": {
    "ExecuteTime": {
     "end_time": "2020-04-04T08:57:57.950483Z",
     "start_time": "2020-04-04T08:57:57.946493Z"
    }
   },
   "outputs": [],
   "source": [
    "print(gl32.table)"
   ]
  },
  {
   "cell_type": "code",
   "execution_count": null,
   "metadata": {},
   "outputs": [],
   "source": [
    "print(gl32.add(2, 19))"
   ]
  },
  {
   "cell_type": "code",
   "execution_count": null,
   "metadata": {},
   "outputs": [],
   "source": [
    "for a in range(32):\n",
    "    print(\"#\"*20)\n",
    "    print(a)\n",
    "    for i in range(32):\n",
    "        for j in range(i+1, 32):\n",
    "            if gl32.add(i,j)==a:\n",
    "                print(i, \"+\", j)"
   ]
  }
 ],
 "metadata": {
  "kernelspec": {
   "display_name": "Python 3",
   "language": "python",
   "name": "python3"
  },
  "language_info": {
   "codemirror_mode": {
    "name": "ipython",
    "version": 3
   },
   "file_extension": ".py",
   "mimetype": "text/x-python",
   "name": "python",
   "nbconvert_exporter": "python",
   "pygments_lexer": "ipython3",
   "version": "3.7.6"
  }
 },
 "nbformat": 4,
 "nbformat_minor": 4
}
