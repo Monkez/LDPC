{
 "cells": [
  {
   "cell_type": "code",
   "execution_count": 1,
   "metadata": {
    "ExecuteTime": {
     "end_time": "2020-07-13T03:02:15.442999Z",
     "start_time": "2020-07-13T03:02:14.371039Z"
    }
   },
   "outputs": [
    {
     "name": "stdout",
     "output_type": "stream",
     "text": [
      "M: 3\n",
      "['000' '001' '010' '100' '011' '110' '111' '101']\n",
      "[0 1 2 4 3 6 7 5]\n",
      "[[0 0 0]\n",
      " [0 0 1]\n",
      " [0 1 0]\n",
      " [1 0 0]\n",
      " [0 1 1]\n",
      " [1 1 0]\n",
      " [1 1 1]\n",
      " [1 0 1]]\n"
     ]
    },
    {
     "name": "stderr",
     "output_type": "stream",
     "text": [
      "/home/bootai/miniconda3/envs/DeLai/lib/python3.6/site-packages/numba/cuda/envvars.py:17: NumbaWarning: \n",
      "Environment variables with the 'NUMBAPRO' prefix are deprecated and consequently ignored, found use of NUMBAPRO_NVVM=/usr/local/cuda-10.1/nvvm/lib64/libnvvm.so.\n",
      "\n",
      "For more information about alternatives visit: ('http://numba.pydata.org/numba-doc/latest/cuda/overview.html', '#cudatoolkit-lookup')\n",
      "  warnings.warn(errors.NumbaWarning(msg))\n",
      "/home/bootai/miniconda3/envs/DeLai/lib/python3.6/site-packages/numba/cuda/envvars.py:17: NumbaWarning: \n",
      "Environment variables with the 'NUMBAPRO' prefix are deprecated and consequently ignored, found use of NUMBAPRO_LIBDEVICE=/usr/local/cuda-10.1/nvvm/libdevice.\n",
      "\n",
      "For more information about alternatives visit: ('http://numba.pydata.org/numba-doc/latest/cuda/overview.html', '#cudatoolkit-lookup')\n",
      "  warnings.warn(errors.NumbaWarning(msg))\n"
     ]
    }
   ],
   "source": [
    "%matplotlib inline\n",
    "from matplotlib import pyplot as plt\n",
    "import numpy as np\n",
    "import math\n",
    "import os\n",
    "os.environ['NUMBAPRO_LIBDEVICE'] = \"/usr/local/cuda-10.1/nvvm/libdevice\"\n",
    "os.environ['NUMBAPRO_NVVM'] = \"/usr/local/cuda-10.1/nvvm/lib64/libnvvm.so\"\n",
    "from scipy.special import erfc\n",
    "import time\n",
    "from tqdm.notebook import tnrange\n",
    "import threading\n",
    "import config as cf\n",
    "from numba import jit, njit, vectorize, cuda, int16, float32\n",
    "from numba.cuda.random import create_xoroshiro128p_states, xoroshiro128p_normal_float32\n",
    "\n",
    "\n",
    "class GF():\n",
    "    def __init__(self, f):\n",
    "        Max = np.max(f)\n",
    "        f2 = np.zeros(Max+1, np.uint8)\n",
    "        f2[f] = 1\n",
    "        f = np.flip(f2)\n",
    "        self.len_of_symbol = Max\n",
    "        self.q = 2**self.len_of_symbol\n",
    "        self.table = np.array(self.make_code_table(f))\n",
    "        \n",
    "    def make_code_table(self, f):\n",
    "        m = len(f)-1\n",
    "        N = 2**m\n",
    "        table = [\"0\"*m]\n",
    "        x =\"\"\n",
    "        for i in range(1,m+1):\n",
    "            if f[i]==0:\n",
    "                x+=\"0\"\n",
    "            else:\n",
    "                x+=\"1\"\n",
    "        for i in range(0, m):\n",
    "            c=\"0\"*m\n",
    "            c = c[0:i] + \"1\"+c[i+1:]\n",
    "            c = c[::-1]\n",
    "            table.append(c)\n",
    "        for i in range(m+1, N):\n",
    "            a = table[-1]\n",
    "            a1 = a[1:]+\"0\"\n",
    "            b = \"0\"*m\n",
    "            if a[0]==\"1\":\n",
    "                b = x\n",
    "            c = self.add_string_code(a1, b)\n",
    "            table.append(c)\n",
    "        return table\n",
    "    \n",
    "    def add_string_code(self, a, b):\n",
    "        c =\"\"\n",
    "        for i in range(self.len_of_symbol):\n",
    "            if a[i]!= b[i] :\n",
    "                c+=\"1\"\n",
    "            else:\n",
    "                c+=\"0\"\n",
    "        return c\n",
    "    \n",
    "    def reserve_e(self, a):\n",
    "            a2 = self.q+1-a\n",
    "            if a2 == self.q:\n",
    "                a2 = 1\n",
    "            if a2 == self.q+1:\n",
    "                a2 = 0\n",
    "            return a2\n",
    "    def add(self, a, b):\n",
    "        if  np.isscalar(a) and  np.isscalar(b):\n",
    "            a= int(a)\n",
    "            b = int(b)\n",
    "            a1 = self.table[a]\n",
    "            b1 = self.table[b]\n",
    "            c1 = self.add_string_code(a1, b1)\n",
    "            c, = np.where(self.table == c1)\n",
    "            return c[0]\n",
    "        elif not np.isscalar(a):\n",
    "            if np.isscalar(b):\n",
    "                raise ValueError(\"a, b must have same shape ( a:\",a.shape,\", b is scalar)\" )\n",
    "            else:\n",
    "                a_size = a.shape\n",
    "                b_size = b.shape\n",
    "                if  len(a_size) ==2 and  len(a_size)==2:\n",
    "                    if a_size[0] != b_size[0] or a_size[1] != b_size[1] :\n",
    "                        raise ValueError(\"a, b must have same shape ( a:\"+ str(a.shape) +\",  b:\"+str(b.shape)+ \")\" )\n",
    "                    else:\n",
    "                        c = np.zeros_like(a, np.uint8)\n",
    "                        for i in range(a_size[0]):\n",
    "                            for j in range(a_size[1]):\n",
    "                                c[i, j] = self.add(a[i, j], b[i, j])\n",
    "                        return c\n",
    "                elif len(a_size)==1 and len(b_size)==1 and a_size ==b_size :\n",
    "                    c = np.zeros_like(a, np.uint8)\n",
    "                    for i in range(a_size[0]):\n",
    "                        c[i] = self.add(a[i], b[i])\n",
    "                    return c\n",
    "                else:\n",
    "                    raise ValueError(\"a, b must have same shape ( a:\"+ str(a.shape) +\",  b:\"+str(b.shape)+ \")\" )         \n",
    "    def multi(self, a, b):\n",
    "        if  np.isscalar(a) and  np.isscalar(b):\n",
    "                if a ==0 or b == 0:\n",
    "                    return 0\n",
    "                else:\n",
    "                    c = (a+b-2) % (self.q-1)\n",
    "                    return c+1\n",
    "        elif not np.isscalar(a):\n",
    "            a_size = a.shape\n",
    "            if np.isscalar(b):\n",
    "                c = [self.multi(i, b) for i in a]\n",
    "                return np.array(c)\n",
    "            b_size = b.shape\n",
    "            if a_size[1] != b_size[0] :\n",
    "                raise ValueError(\"Can not multiply 2 matrix of dimension: \", a.shape, b.shape)\n",
    "            else:\n",
    "                c = np.zeros((a_size[0], b_size[1]), np.uint8)\n",
    "                for i in range(a_size[0]):\n",
    "                    for j in range(b_size[1]):\n",
    "                        for k in range(a_size[1]):\n",
    "                            c[i, j] =self.add(c[i, j], self.multi(a[i, k], b[k, j])) \n",
    "                return c\n",
    "\n",
    "gl = GF([3,  1, 0])\n",
    "q = gl.q\n",
    "table_str = gl.table.copy()\n",
    "table = [int(i, 2) for i in table_str]\n",
    "table = np.array(table)\n",
    "len_of_symbol = gl.len_of_symbol\n",
    "Scale = 512\n",
    "dc = 5\n",
    "q = 8\n",
    "M = int(np.log2(q))\n",
    "print(\"M:\", M)\n",
    "dtype = np.int16\n",
    "H = np.load(\"H.npy\").astype(np.int16)\n",
    "m = H.shape[0]\n",
    "n = H.shape[1]\n",
    "k = n- m\n",
    "H_non_zeros_index  = np.zeros((m, dc), np.uint16)\n",
    "for i in range(m):\n",
    "    stt = 0\n",
    "    for j in range(n):\n",
    "        if H[i, j]!=0:\n",
    "            H_non_zeros_index[i, stt] = j\n",
    "            stt+=1  \n",
    "Hmn = np.zeros((m, dc), np.int16)  \n",
    "for i in range(m):\n",
    "    Hmn[i]= H[i][H_non_zeros_index[i]]\n",
    "#print(Hmn)       \n",
    "\n",
    "U_Hmn = np.zeros_like(Hmn)\n",
    "for i in range(m):\n",
    "    for j in range(dc):\n",
    "        U_Hmn[i, j] = gl.reserve_e(Hmn[i, j])\n",
    "#print(U_Hmn)\n",
    "print(table_str)\n",
    "print(table)\n",
    "table_bits = np.array([np.array(list(i)).astype(np.int16) for i in table_str])\n",
    "print(table_bits)\n",
    "table_bits = cuda.to_device(table_bits)\n",
    "config = cuda.to_device(np.load(\"config.npy\"))\n",
    "trellis_size = config.shape[1]+1"
   ]
  },
  {
   "cell_type": "code",
   "execution_count": 2,
   "metadata": {
    "ExecuteTime": {
     "end_time": "2020-07-13T03:02:16.061802Z",
     "start_time": "2020-07-13T03:02:15.916179Z"
    }
   },
   "outputs": [],
   "source": [
    "@cuda.jit(device=True)\n",
    "def add_1d(a, b, c, table):\n",
    "    for i in range(a.shape[0]):\n",
    "        c[i]=table[a[i]]^table[b[i]]\n",
    "\n",
    "@cuda.jit(device=True)\n",
    "def add_1d_scalar(a, b, c, table):\n",
    "    for i in range(a.shape[0]):\n",
    "        c[i]=table[a[i]]^table[b]\n",
    "        for j in range(q):\n",
    "            if c[i]==table[j]:\n",
    "                c[i]=j\n",
    "                break\n",
    "\n",
    "@cuda.jit(device=True)\n",
    "def multi_1d_scalar(a, b, c):\n",
    "    for i in range(a.shape[0]):\n",
    "        if a[i]==0 and b ==0:\n",
    "            c[i]=1\n",
    "        else:\n",
    "            c[i]=(a[i]+b-2) % (q-1)+1\n",
    "\n",
    "@cuda.jit(device=True)\n",
    "def sub_Q_permutation(sub_Q, Hmn, fix_arr0, sub_Q_permuted):\n",
    "    fix_arr =cuda.local.array(shape=(dc, q),dtype=int16) ####### fix GF16\n",
    "    for i in range(dc):\n",
    "        multi_1d_scalar(fix_arr0, Hmn[i], fix_arr[i])\n",
    "        sub_Q_permuted[0, i]=sub_Q[0, i]\n",
    "        for j in range(q-1):\n",
    "            sub_Q_permuted[fix_arr[i][j+1], i] = sub_Q[j+1, i]\n",
    "\n",
    "            \n",
    "@cuda.jit(device=True)\n",
    "def sub_Q_selection(Q, H_index, sub_Q):\n",
    "    for  x in range(sub_Q.shape[0]):\n",
    "        for y in range(sub_Q.shape[1]):\n",
    "            sub_Q[x, y] = Q[x, H_index[y]]\n",
    "\n",
    "@cuda.jit(device=True)\n",
    "def Zn(sub_Q, zn):\n",
    "    min_arr = cuda.local.array(shape=(dc),dtype=int16)\n",
    "    for i in range(dc):\n",
    "        min_arr[i] = sub_Q[0, i]\n",
    "        zn[i]=0\n",
    "        for j in range(q):\n",
    "            if min_arr[i]> sub_Q[j, i]:\n",
    "                min_arr[i]=sub_Q[j, i]\n",
    "                zn[i]=j\n",
    "                \n",
    "\n",
    "@cuda.jit(device=True)\n",
    "def get_code(sub_Q, zn):\n",
    "    min_arr = cuda.local.array(shape=(n),dtype=int16)\n",
    "    for i in range(n):\n",
    "        min_arr[i] = sub_Q[0, i]\n",
    "        zn[i]=0\n",
    "        for j in range(q):\n",
    "            if min_arr[i]> sub_Q[j, i]:\n",
    "                min_arr[i]=sub_Q[j, i]\n",
    "                zn[i]=j\n",
    "\n",
    "@cuda.jit(device=True)\n",
    "def Delta_conversation(sub_Q, zn, fix_arr0, table, sub_Q_Delta):\n",
    "    fix_arr =cuda.local.array(shape=(dc, q),dtype=int16)\n",
    "    for i in range(dc):\n",
    "        add_1d_scalar(fix_arr0, zn[i], fix_arr[i], table)\n",
    "        for j in range(q):\n",
    "            sub_Q_Delta[fix_arr[i][j], i] = sub_Q[j, i]\n",
    "\n",
    "@cuda.jit(device=True)\n",
    "def Bta(zn, B, table):\n",
    "    B[0] = zn[0]\n",
    "    for i in range(zn.shape[0]-1):\n",
    "        add_1d_scalar(B[i], zn[i+1], B[i+1], table)\n",
    "\n",
    "@cuda.jit(device=True)\n",
    "def tree_finder_1row(A, M):\n",
    "    col = cuda.local.array(shape=(1),dtype=int16)\n",
    "    value = cuda.local.array(shape=(1),dtype=int16)\n",
    "    col[0] = 0\n",
    "    value[0] = A[0]\n",
    "    for i in range(A.shape[0]):\n",
    "        if A[i]<value[0]:\n",
    "            value[0] = A[i]\n",
    "            col[0]=i\n",
    "    \n",
    "    M[0]= value[0]\n",
    "    M[1] = col[0]\n",
    "\n",
    "@cuda.jit(device=True)\n",
    "def tree_finder(A, M):\n",
    "    M[0][0]= 0\n",
    "    M[0][1]=0\n",
    "    for i in range(1, q):\n",
    "        tree_finder_1row(A[i], M[i])\n",
    "\n",
    "@cuda.jit(device=True)\n",
    "def trellis_building(M, config, trellis):\n",
    "    for i in range(q):\n",
    "        trellis[i, 0] = M[i, 0]\n",
    "    for i in range(1, q):\n",
    "        for j in range(1, trellis_size):\n",
    "            if M[config[i, j-1, 0]][2]!=M[config[i, j-1, 1]][2]:\n",
    "                trellis[i, j] = max(M[config[i, j-1, 0]][0], M[config[i, j-1, 1]][0])\n",
    "            else:\n",
    "                trellis[i, j]=10000\n",
    "\n",
    "@cuda.jit(device=True)\n",
    "def min_finder(A, min_out):\n",
    "    cols = cuda.local.array(shape=(2),dtype=int16)\n",
    "    values = cuda.local.array(shape=(2),dtype=int16)\n",
    "    if A[0]<=A[1]:\n",
    "        cols[0]=0\n",
    "        cols[1]=1\n",
    "        values[0]=A[0]\n",
    "        values[1]=A[1]\n",
    "    else:\n",
    "        cols[0]=1\n",
    "        cols[1]=0\n",
    "        values[0]=A[1]\n",
    "        values[1]=A[0]\n",
    "\n",
    "    for i in range(2, A.shape[0]):\n",
    "        if A[i]<values[0]:\n",
    "            values[1]=values[0]\n",
    "            cols[1]=cols[0]\n",
    "            values[0]=A[i]\n",
    "            cols[0]=i\n",
    "        elif A[i]>=values[0] and A[i]<values[1]:\n",
    "            values[1]=A[i]\n",
    "            cols[1]=i\n",
    "    \n",
    "    min_out[0]= values[0]\n",
    "    min_out[1] = values[1]\n",
    "    min_out[2]=cols[0]\n",
    "\n",
    "@cuda.jit(device=True)\n",
    "def extra_column(trellis, M, config, extra_col):\n",
    "    for i in range(q):\n",
    "        min_out = cuda.local.array(shape=(3),dtype=int16)\n",
    "        min_finder(trellis[i], min_out)\n",
    "        extra_col[i, 0]=min_out[0]\n",
    "        extra_col[i, 1]= min_out[1]\n",
    "        if i >0:\n",
    "            if min_out[2]==0:\n",
    "                extra_col[i, 2]=extra_col[i, 3]=M[i][1]\n",
    "            else:\n",
    "                extra_col[i, 2] = M[config[i, min_out[2]-1, 0]][1]\n",
    "                extra_col[i, 3] = M[config[i, min_out[2]-1, 1]][1]\n",
    "\n",
    "\n",
    "@cuda.jit(device=True)\n",
    "def dR_computing(extra_column, dR):\n",
    "    for i in range(q):\n",
    "        for j in range(dc):\n",
    "            if extra_column[i][2]==j or extra_column[i][3]==j:\n",
    "                dR[i, j]=extra_column[i][1]\n",
    "            else:\n",
    "                dR[i, j]=extra_column[i][0]\n",
    "\n",
    "@cuda.jit(device=True)\n",
    "def R_computing(dR, B, zn, R, table):\n",
    "    for i in range(q):\n",
    "        for j in range(dc):\n",
    "            index = cuda.local.array(shape=(1),dtype=int16)\n",
    "            index[0]= table[i]^table[B]^table[zn[j]]\n",
    "            for l in range(q):\n",
    "                if index[0] == table[l]:\n",
    "                    index[0]=l\n",
    "                    break\n",
    "            R[index, j]=dR[i, j]\n",
    "\n",
    "@cuda.jit(device=True)\n",
    "def CN(sub_Q_permuted, zn, fix_arr0, table, config, R):\n",
    "    sub_Q_Delta = cuda.local.array(shape=(q, dc),dtype=int16)\n",
    "    Delta_conversation(sub_Q_permuted, zn, fix_arr0, table, sub_Q_Delta)    \n",
    "    B = cuda.local.array(shape=(dc, 1),dtype=int16)\n",
    "    Bta(zn, B, table)\n",
    "    #B=B[-1][0]\n",
    "    M = cuda.local.array(shape=(q, 2),dtype=int16)\n",
    "    tree_finder(sub_Q_Delta, M)\n",
    "    trellis = cuda.local.array(shape=(q, trellis_size),dtype=int16)\n",
    "    trellis_building(M, config, trellis)\n",
    "    extra_columm = cuda.local.array(shape=(q, 4),dtype=int16)\n",
    "    extra_column(trellis, M, config, extra_columm)\n",
    "    dR = cuda.local.array(shape=(q, dc),dtype=int16)\n",
    "    dR_computing(extra_columm, dR)\n",
    "    R_computing(dR, B[-1][0], zn, R, table)\n",
    "\n",
    "\n",
    "\n",
    "\n",
    "@cuda.jit(device=True)\n",
    "def update_sub_Q(sub_Q_permuted, R, sub_Q_updated):\n",
    "    for i in range(R.shape[0]):\n",
    "        for j in range(R.shape[1]):\n",
    "            sub_Q_updated[i][j] =  sub_Q_permuted[i][j]+R[i][j]\n",
    "\n",
    "@cuda.jit(device=True)\n",
    "def subtract(Q1, Q2, Q3):\n",
    "    for i in range(Q1.shape[0]):\n",
    "        for j in range(Q1.shape[1]):\n",
    "            Q3[i][j] =  Q1[i][j]- Q2[i][j]\n",
    "\n",
    "\n",
    "@cuda.jit(device=True)\n",
    "def update_Q(Q, sub_Q_updated, H_index):\n",
    "    for i in range(Q.shape[0]):\n",
    "        for j in range(Q.shape[1]):\n",
    "            for y in range(dc):\n",
    "                if j == H_index[y]:\n",
    "                    Q[i, j]=sub_Q_updated[i, y]\n",
    "\n",
    "@cuda.jit(device=True)\n",
    "def debug(X, Y):\n",
    "    for i in range(X.shape[0]):\n",
    "        for j in range(X.shape[1]):\n",
    "            Y[i, j] =X[i, j]\n",
    "\n",
    "@cuda.jit(device=True)\n",
    "def Normal(sub_Q, zn, sub_Q_normaled):\n",
    "    for i in range(sub_Q.shape[0]):\n",
    "        for j in range(sub_Q.shape[1]):\n",
    "            sub_Q_normaled[i][j] =  sub_Q[i, j]-sub_Q[zn[j], j]\n",
    "\n",
    "@cuda.jit(device=True)\n",
    "def Normal2(sub_Q):\n",
    "    for i in range(sub_Q.shape[0]):\n",
    "        for j in range(sub_Q.shape[1]):\n",
    "            if sub_Q[i, j]>10000:\n",
    "                sub_Q[i, j]=10000\n",
    "\n",
    "@cuda.jit(device=True)\n",
    "def errors_computing(code_out, errors):\n",
    "    for i in range(code_out.shape[0]):\n",
    "        errors[i]=0\n",
    "        for j in range(n):\n",
    "            if code_out[i][j]!=0:\n",
    "                errors[i]+=1\n",
    "\n",
    "\n",
    "@cuda.jit(device=True)\n",
    "def quick_check(code, out):\n",
    "    out[0]=0\n",
    "    for i in range(code.shape[0]):\n",
    "        out[0]+=code[i]   \n",
    "\n",
    "@cuda.jit(device=True)\n",
    "def Decoder(Q, Hmn, U_Hmn, H_non_zeros_index, fix_arr, table, config, code_out):\n",
    "    Rmna = cuda.local.array(shape=(m, q, dc),dtype=int16)\n",
    "    for i in range(m):\n",
    "        for j in range(q):\n",
    "            for k in range(dc):\n",
    "                Rmna[i][j][k]=0\n",
    "    sub_Q = cuda.local.array(shape=(q, dc),dtype=int16)\n",
    "    sub_Q_permuted = cuda.local.array(shape=(q, dc),dtype=int16)\n",
    "\n",
    "    R = cuda.local.array(shape=(q, dc),dtype=int16)\n",
    "    sub_Q_updated = cuda.local.array(shape=(q, dc),dtype=int16)\n",
    "    sub_Q_unpermuted = cuda.local.array(shape=(q, dc),dtype=int16)\n",
    "    zn = cuda.local.array(shape=(dc),dtype=int16)\n",
    "    sub_Q_normaled = cuda.local.array(shape=(q, dc),dtype=int16)\n",
    "    check_value = cuda.local.array(shape=(1),dtype=int16)\n",
    "    \n",
    "    for _iter in range(10):\n",
    "        for i in range(m):\n",
    "            sub_Q_selection(Q, H_non_zeros_index[i], sub_Q)\n",
    "            sub_Q_permutation(sub_Q, Hmn[i], fix_arr, sub_Q_permuted)\n",
    "            subtract(sub_Q_permuted, Rmna[i],  sub_Q_permuted)\n",
    "            Zn(sub_Q_permuted, zn)\n",
    "            Normal(sub_Q_permuted, zn, sub_Q_normaled)\n",
    "            CN(sub_Q_normaled, zn, fix_arr, table, config, R)\n",
    "            debug(R, Rmna[i])\n",
    "            update_sub_Q(sub_Q_normaled, R, sub_Q_updated)\n",
    "            #Normal2(sub_Q_updated)\n",
    "            sub_Q_permutation(sub_Q_updated, U_Hmn[i], fix_arr, sub_Q_unpermuted)\n",
    "            update_Q(Q, sub_Q_unpermuted, H_non_zeros_index[i])\n",
    "        get_code(Q, code_out)\n",
    "        quick_check(code_out, check_value)\n",
    "        if check_value[0]==0:\n",
    "            break\n",
    "\n",
    "@cuda.jit\n",
    "def multi_Decoder(Q, Hmn, U_Hmn, H_non_zeros_index, fix_arr, table, config, code_out, errors):\n",
    "    i = cuda.grid(1)\n",
    "    Decoder(Q[i], Hmn, U_Hmn, H_non_zeros_index, fix_arr, table, config, code_out[i])\n",
    "    errors_computing(code_out, errors)\n",
    "    \n",
    "lop10e = np.log10(np.e)\n",
    "@cuda.jit\n",
    "def log10(A, B, C):\n",
    "    i, j = cuda.grid(2)\n",
    "    if i < A.shape[0] and j < A.shape[1]:\n",
    "        B[i][j]= lop10e*math.log(A[i][j])\n",
    "        if B[i][j]>4:\n",
    "            B[i][j]=4\n",
    "        C[j][i] = int(B[i][j]*100)\n",
    "\n",
    "@cuda.jit\n",
    "def probBits(bits, probBs, N0):\n",
    "    i, j = cuda.grid(2)\n",
    "    if i <bits.shape[0] and j < bits.shape[1]:\n",
    "        d1 = abs(-1-bits[i][j])\n",
    "        d2 = abs(1-bits[i][j])\n",
    "        p0 = np.e**(-d1/N0)/(np.e**(-d1/N0)+np.e**(-d2/N0))\n",
    "        p1 = 1-p0\n",
    "        probBs[i][j][0] = p0\n",
    "        probBs[i][j][1] = p1\n",
    "\n",
    "@cuda.jit\n",
    "def probS(probBs, table_bits, Q_out):\n",
    "    i = cuda.grid(1)\n",
    "    if i <probBs.shape[0]:\n",
    "        p_max = 0\n",
    "        for j in range(q):\n",
    "            Q_out[i][j]=1\n",
    "            for k in range(M):\n",
    "                Q_out[i][j]*=probBs[i][k][table_bits[j][k]]\n",
    "            if Q_out[i][j] >  p_max:\n",
    "                p_max = Q_out[i][j]\n",
    "        for j in range(q):\n",
    "            Q_out[i][j] = p_max/Q_out[i][j]\n",
    "        \n",
    "\n",
    "@cuda.jit\n",
    "def S2B(message, table_bits, bits_out):\n",
    "    for i in range(message.shape[0]):\n",
    "        for j in range(M):\n",
    "            bits_out[i, j]= table_bits[message[i]][j]\n",
    "\n",
    "@cuda.jit\n",
    "def rand_array(rng_states, N0, out):\n",
    "    thread_id = cuda.grid(1)\n",
    "    x = xoroshiro128p_normal_float32(rng_states, thread_id)\n",
    "    out[thread_id] = x\n",
    "    out[thread_id] = out[thread_id]*N0\n",
    "    out[thread_id] = out[thread_id]-1\n",
    "    \n",
    "@cuda.jit\n",
    "def hsplit(A, B):\n",
    "    i, j = cuda.grid(2)\n",
    "    if i<A.shape[0] and j < A.shape[1]:\n",
    "        B[j//n][i][j%n]=A[i][j]"
   ]
  },
  {
   "cell_type": "code",
   "execution_count": 3,
   "metadata": {
    "ExecuteTime": {
     "end_time": "2020-07-13T03:02:17.762042Z",
     "start_time": "2020-07-13T03:02:16.761935Z"
    }
   },
   "outputs": [],
   "source": [
    "batch_size = 1024\n",
    "fix_arr = cuda.to_device(np.arange(q))\n",
    "U_Hmn = cuda.to_device(U_Hmn)\n",
    "Hmn = cuda.to_device(Hmn)\n",
    "H_non_zeros_index = cuda.to_device(H_non_zeros_index)\n",
    "table = cuda.to_device(table)\n",
    "zn = cuda.to_device(np.zeros(dc, np.int16))\n",
    "code_out = cuda.to_device(np.zeros((batch_size, n), np.int16))\n",
    "errors = np.zeros(batch_size, np.int16)\n",
    "threads_per_block_rd = 128\n",
    "blocks_rd = (n*M*batch_size+threads_per_block_rd-1)//threads_per_block_rd\n",
    "rng_states = create_xoroshiro128p_states(threads_per_block_rd * blocks_rd, seed=1)"
   ]
  },
  {
   "cell_type": "code",
   "execution_count": 4,
   "metadata": {
    "ExecuteTime": {
     "end_time": "2020-07-13T03:02:17.794750Z",
     "start_time": "2020-07-13T03:02:17.773360Z"
    }
   },
   "outputs": [],
   "source": [
    "cf.A0 = cuda.to_device(np.zeros((batch_size*M*n), dtype=np.float32))\n",
    "cf.A = cuda.to_device(np.zeros((batch_size*n , M), dtype=np.float32))\n",
    "cf.B = cuda.to_device(np.zeros((batch_size*n, M, 2)))\n",
    "cf.C = cuda.to_device(np.zeros((batch_size*n, q)))\n",
    "cf.C2 = cuda.to_device(np.zeros((batch_size*n, q)))\n",
    "cf.C3 = cuda.to_device(np.zeros((q, batch_size*n), np.int16))\n",
    "cf.out = cuda.to_device(np.zeros((batch_size, q, n), np.int16))\n",
    "def BPSK(sample, SNRdB):\n",
    "    Eb = 1\n",
    "    N0 = Eb/10**(SNRdB/10)\n",
    "    sigma = np.sqrt(N0/2)\n",
    "    #print(N0, sigma)\n",
    "    rand_array[blocks_rd, threads_per_block_rd](rng_states, sigma, cf.A0)\n",
    "    cf.A = cf.A0.reshape((batch_size*n, M))\n",
    "    thread_probBits = (128, 8)\n",
    "    block_probBits = ((cf.A.shape[0]+thread_probBits[0]-1)//thread_probBits[0], (cf.A.shape[1]+thread_probBits[1]-1)//thread_probBits[1])\n",
    "    probBits[block_probBits, thread_probBits](cf.A, cf.B, N0)\n",
    "    thread_probS = 128\n",
    "    block_probS = (cf.B.shape[0]+thread_probS-1)//thread_probS\n",
    "    probS[block_probS, thread_probS](cf.B, table_bits, cf.C)\n",
    "    thread_log10 = (128, 8)\n",
    "    block_log10 = ((cf.C.shape[0]+thread_log10[0]-1)//thread_log10[0], (cf.C.shape[1]+thread_log10[1]-1)//thread_log10[1])\n",
    "    log10[thread_log10, block_log10](cf.C, cf.C2, cf.C3)\n",
    "    thread_hsplit = (8, 128)\n",
    "    block_hsplit = ((cf.C3.shape[0]+thread_hsplit[0]-1)//thread_hsplit[0], (cf.C3.shape[1]+thread_hsplit[1]-1)//thread_hsplit[1])\n",
    "    hsplit[block_hsplit, thread_hsplit](cf.C3, cf.out)"
   ]
  },
  {
   "cell_type": "code",
   "execution_count": 5,
   "metadata": {
    "ExecuteTime": {
     "end_time": "2020-07-13T03:02:18.361543Z",
     "start_time": "2020-07-13T03:02:18.351310Z"
    }
   },
   "outputs": [],
   "source": [
    "def test(SNRdB, batch_size):\n",
    "    eb = 0\n",
    "    ef = 0\n",
    "    samples = 0\n",
    "    step = int(1e9//batch_size)\n",
    "    for i in tnrange(step):\n",
    "        BPSK(batch_size, SNRdB)\n",
    "        multi_Decoder[4, batch_size//4](cf.out, Hmn, U_Hmn, H_non_zeros_index, fix_arr, table, config, code_out, errors) \n",
    "        eb+=np.sum(errors)\n",
    "        for i in range(batch_size):\n",
    "            if errors[i]!=0:\n",
    "                ef+=1\n",
    "        samples +=batch_size\n",
    "        if ef>200:\n",
    "            break\n",
    "    print(SNRdB, samples, ef, eb, np.log10(ef/ samples), np.log10(eb/ (samples*n)))\n",
    "    return samples, ef, eb\n"
   ]
  },
  {
   "cell_type": "code",
   "execution_count": 6,
   "metadata": {
    "ExecuteTime": {
     "end_time": "2020-07-13T03:07:46.010746Z",
     "start_time": "2020-07-13T03:02:19.050451Z"
    }
   },
   "outputs": [
    {
     "data": {
      "application/vnd.jupyter.widget-view+json": {
       "model_id": "f0698b0e25c3435183415adadf1d9d03",
       "version_major": 2,
       "version_minor": 0
      },
      "text/plain": [
       "HBox(children=(FloatProgress(value=0.0, max=976562.0), HTML(value='')))"
      ]
     },
     "metadata": {},
     "output_type": "display_data"
    },
    {
     "name": "stdout",
     "output_type": "stream",
     "text": [
      "\n",
      "0 1024 365 2101 -0.44800709218333723 -1.231941948584135\n"
     ]
    },
    {
     "data": {
      "application/vnd.jupyter.widget-view+json": {
       "model_id": "61dc60c59efd42d8b6999c12da6787da",
       "version_major": 2,
       "version_minor": 0
      },
      "text/plain": [
       "HBox(children=(FloatProgress(value=0.0, max=976562.0), HTML(value='')))"
      ]
     },
     "metadata": {},
     "output_type": "display_data"
    },
    {
     "name": "stdout",
     "output_type": "stream",
     "text": [
      "\n",
      "1 2048 213 850 -0.9829503488650554 -1.9259790709397762\n"
     ]
    },
    {
     "data": {
      "application/vnd.jupyter.widget-view+json": {
       "model_id": "987e485771f5410f82adf35efc96107a",
       "version_major": 2,
       "version_minor": 0
      },
      "text/plain": [
       "HBox(children=(FloatProgress(value=0.0, max=976562.0), HTML(value='')))"
      ]
     },
     "metadata": {},
     "output_type": "display_data"
    },
    {
     "name": "stdout",
     "output_type": "stream",
     "text": [
      "\n",
      "2 13312 206 633 -1.8103760885774953 -2.8669076432795695\n"
     ]
    },
    {
     "data": {
      "application/vnd.jupyter.widget-view+json": {
       "model_id": "13e9ad92e21f447695d059b371b47e58",
       "version_major": 2,
       "version_minor": 0
      },
      "text/plain": [
       "HBox(children=(FloatProgress(value=0.0, max=976562.0), HTML(value='')))"
      ]
     },
     "metadata": {},
     "output_type": "display_data"
    },
    {
     "name": "stdout",
     "output_type": "stream",
     "text": [
      "\n",
      "2.5 36864 201 466 -2.2634063999866103 -3.442284585067375\n"
     ]
    },
    {
     "data": {
      "application/vnd.jupyter.widget-view+json": {
       "model_id": "92581c11688a43aeb933006daffc35ee",
       "version_major": 2,
       "version_minor": 0
      },
      "text/plain": [
       "HBox(children=(FloatProgress(value=0.0, max=976562.0), HTML(value='')))"
      ]
     },
     "metadata": {},
     "output_type": "display_data"
    },
    {
     "name": "stdout",
     "output_type": "stream",
     "text": [
      "\n",
      "3 107520 201 448 -2.7282931982892613 -3.9242792860618816\n"
     ]
    },
    {
     "data": {
      "application/vnd.jupyter.widget-view+json": {
       "model_id": "73a684c97e6b41fe870aa297b770b742",
       "version_major": 2,
       "version_minor": 0
      },
      "text/plain": [
       "HBox(children=(FloatProgress(value=0.0, max=976562.0), HTML(value='')))"
      ]
     },
     "metadata": {},
     "output_type": "display_data"
    },
    {
     "name": "stdout",
     "output_type": "stream",
     "text": [
      "\n",
      "3.5 347136 202 361 -3.2351482853962703 -4.527060497287512\n"
     ]
    },
    {
     "data": {
      "application/vnd.jupyter.widget-view+json": {
       "model_id": "05ecede72db74875ad8963dfeec4a4a2",
       "version_major": 2,
       "version_minor": 0
      },
      "text/plain": [
       "HBox(children=(FloatProgress(value=0.0, max=976562.0), HTML(value='')))"
      ]
     },
     "metadata": {},
     "output_type": "display_data"
    },
    {
     "name": "stdout",
     "output_type": "stream",
     "text": [
      "\n",
      "4 1027072 201 355 -3.7084048322397414 -5.005440580955412\n"
     ]
    },
    {
     "data": {
      "application/vnd.jupyter.widget-view+json": {
       "model_id": "831b5f187ccf4e68a1884be636c26ff8",
       "version_major": 2,
       "version_minor": 0
      },
      "text/plain": [
       "HBox(children=(FloatProgress(value=0.0, max=976562.0), HTML(value='')))"
      ]
     },
     "metadata": {},
     "output_type": "display_data"
    },
    {
     "name": "stdout",
     "output_type": "stream",
     "text": [
      "\n",
      "4.3 1876992 201 356 -3.9702663641815397 -5.266080467979429\n"
     ]
    },
    {
     "data": {
      "application/vnd.jupyter.widget-view+json": {
       "model_id": "83948f17f88b4247a2cb9b5d4dc03b2f",
       "version_major": 2,
       "version_minor": 0
      },
      "text/plain": [
       "HBox(children=(FloatProgress(value=0.0, max=976562.0), HTML(value='')))"
      ]
     },
     "metadata": {},
     "output_type": "display_data"
    },
    {
     "name": "stdout",
     "output_type": "stream",
     "text": [
      "\n",
      "4.5 3431424 201 317 -4.232278327054595 -5.578483166607608\n"
     ]
    },
    {
     "data": {
      "application/vnd.jupyter.widget-view+json": {
       "model_id": "4a142e7528784598a4a93aea8d109f95",
       "version_major": 2,
       "version_minor": 0
      },
      "text/plain": [
       "HBox(children=(FloatProgress(value=0.0, max=976562.0), HTML(value='')))"
      ]
     },
     "metadata": {},
     "output_type": "display_data"
    },
    {
     "name": "stdout",
     "output_type": "stream",
     "text": [
      "\n",
      "4.7 5271552 201 339 -4.418742437451672 -5.735806841019355\n"
     ]
    }
   ],
   "source": [
    "SNRdB_arr = (0,  1, 2, 2.5, 3, 3.5, 4, 4.3, 4.5, 4.7)\n",
    "ef_arr = []\n",
    "es_arr = []\n",
    "S = []\n",
    "for i in range(len(SNRdB_arr)):\n",
    "    s, ef, es = test(SNRdB_arr[i], batch_size)\n",
    "    S.append(s)\n",
    "    ef_arr.append(ef)\n",
    "    es_arr.append(es)"
   ]
  },
  {
   "cell_type": "code",
   "execution_count": 7,
   "metadata": {
    "ExecuteTime": {
     "end_time": "2020-07-13T03:08:35.442415Z",
     "start_time": "2020-07-13T03:08:34.475555Z"
    }
   },
   "outputs": [
    {
     "data": {
      "image/png": "[encoded data removed]",
      "text/plain": [
       "<Figure size 504x432 with 1 Axes>"
      ]
     },
     "metadata": {
      "needs_background": "light"
     },
     "output_type": "display_data"
    },
    {
     "name": "stdout",
     "output_type": "stream",
     "text": [
      "[365, 213, 206, 201, 201, 202, 201, 201, 201, 201]\n",
      "[2101, 850, 633, 466, 448, 361, 355, 356, 317, 339]\n",
      "[1024, 2048, 13312, 36864, 107520, 347136, 1027072, 1876992, 3431424, 5271552]\n"
     ]
    }
   ],
   "source": [
    "N = len(S)\n",
    "SER = [es_arr[i]/(S[i]*n) for i in range(N)]\n",
    "FER = [ef_arr[i]/(S[i]) for i in range(N)]\n",
    "import  matplotlib.pyplot as plt \n",
    "fig = plt.figure(figsize=(7,6))\n",
    "# plt.plot(SNRdB1, BER_BPSK, label='B-PSK', linewidth=4.0)\n",
    "plt.plot(SNRdB_arr[:N], SER,'-', label='SER-LDPC-GF(8)-Iter-10', linewidth=4.0)\n",
    "plt.plot(SNRdB_arr[:N], FER,'-', label='FER-LDPC-GF(8)-Iter-10', linewidth=4.0)\n",
    "plt.xticks(np.arange(0, 8, 1))\n",
    "plt.yscale('log')\n",
    "plt.ylabel('log10')\n",
    "plt.xlabel('SNR(dB)')\n",
    "plt.grid()\n",
    "plt.legend()\n",
    "# plt.savefig('Ber.png')\n",
    "# plt.close(fig)  \n",
    "plt.show()\n",
    "print(ef_arr)\n",
    "print(es_arr)\n",
    "print(S)"
   ]
  },
  {
   "cell_type": "code",
   "execution_count": null,
   "metadata": {},
   "outputs": [],
   "source": [
    "[288, 202, 201, 201, 201, 201]\n",
    "[1653, 566, 426, 404, 402, 379]\n",
    "[1536, 12800, 203264, 3659776, 15742464, 86165504]"
   ]
  }
 ],
 "metadata": {
  "kernelspec": {
   "display_name": "Environment (conda_delai)",
   "language": "python",
   "name": "conda_delai"
  },
  "language_info": {
   "codemirror_mode": {
    "name": "ipython",
    "version": 3
   },
   "file_extension": ".py",
   "mimetype": "text/x-python",
   "name": "python",
   "nbconvert_exporter": "python",
   "pygments_lexer": "ipython3",
   "version": "3.6.10"
  },
  "varInspector": {
   "cols": {
    "lenName": 16,
    "lenType": 16,
    "lenVar": 40
   },
   "kernels_config": {
    "python": {
     "delete_cmd_postfix": "",
     "delete_cmd_prefix": "del ",
     "library": "var_list.py",
     "varRefreshCmd": "print(var_dic_list())"
    },
    "r": {
     "delete_cmd_postfix": ") ",
     "delete_cmd_prefix": "rm(",
     "library": "var_list.r",
     "varRefreshCmd": "cat(var_dic_list()) "
    }
   },
   "types_to_exclude": [
    "module",
    "function",
    "builtin_function_or_method",
    "instance",
    "_Feature"
   ],
   "window_display": false
  }
 },
 "nbformat": 4,
 "nbformat_minor": 2
}
