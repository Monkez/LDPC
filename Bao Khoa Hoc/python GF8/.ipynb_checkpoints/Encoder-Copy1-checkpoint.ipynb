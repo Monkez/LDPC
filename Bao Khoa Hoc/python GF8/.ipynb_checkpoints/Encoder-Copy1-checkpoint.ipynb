{
 "cells": [
  {
   "cell_type": "code",
   "execution_count": 1,
   "metadata": {
    "ExecuteTime": {
     "end_time": "2020-07-03T00:45:31.994226Z",
     "start_time": "2020-07-03T00:45:31.532945Z"
    },
    "code_folding": [
     2,
     8,
     156,
     211
    ]
   },
   "outputs": [],
   "source": [
    "import numpy as np\n",
    "\n",
    "def showarray(a, fmt='png'):\n",
    "    a = np.uint8(a)\n",
    "    f = StringIO()\n",
    "    PIL.Image.fromarray(a).save(f, fmt)\n",
    "    IPython.display.display(IPython.display.Image(data=f.getvalue()))\n",
    "    \n",
    "class GF():\n",
    "    def __init__(self, f):\n",
    "        Max = np.max(f)\n",
    "        f2 = np.zeros(Max+1, np.uint8)\n",
    "        f2[f] = 1\n",
    "        f = np.flip(f2)\n",
    "        self.len_of_symbol = Max\n",
    "        self.q = 2**self.len_of_symbol\n",
    "        self.table = np.array(self.make_code_table(f))\n",
    "        \n",
    "    def sub_matrix(self, A, i, j):\n",
    "        A1 = np.delete(A, i, 0)\n",
    "        A2 = np.delete(A1, j, 1)\n",
    "        return A2\n",
    "\n",
    "    def det(self, A):\n",
    "        size = A.shape\n",
    "        if size[0]==2 and size[1]==2:\n",
    "            d = self.add(self.multi(A[0, 0],A[1, 1]), self.multi(A[1, 0],A[0, 1]))\n",
    "            return d\n",
    "        else:\n",
    "            d = 0\n",
    "            for i in range(size[0]):\n",
    "                d=self.add(self.multi(A[0, i],self.det(self.sub_matrix(A, 0, i))), d)\n",
    "            return d\n",
    "        \n",
    "    def make_code_table(self, f):\n",
    "        m = len(f)-1\n",
    "        N = 2**m\n",
    "        table = [\"0\"*m]\n",
    "        x =\"\"\n",
    "        for i in range(1,m+1):\n",
    "            if f[i]==0:\n",
    "                x+=\"0\"\n",
    "            else:\n",
    "                x+=\"1\"\n",
    "        for i in range(0, m):\n",
    "            c=\"0\"*m\n",
    "            c = c[0:i] + \"1\"+c[i+1:]\n",
    "            c = c[::-1]\n",
    "            table.append(c)\n",
    "        for i in range(m+1, N):\n",
    "            a = table[-1]\n",
    "            a1 = a[1:]+\"0\"\n",
    "            b = \"0\"*m\n",
    "            if a[0]==\"1\":\n",
    "                b = x\n",
    "            c = self.add_string_code(a1, b)\n",
    "            table.append(c)\n",
    "        return table\n",
    "\n",
    "    def add_string_code(self, a, b):\n",
    "        c =\"\"\n",
    "        for i in range(self.len_of_symbol):\n",
    "            if a[i]!= b[i] :\n",
    "                c+=\"1\"\n",
    "            else:\n",
    "                c+=\"0\"\n",
    "        return c\n",
    "    def add(self, a, b):\n",
    "        if  np.isscalar(a) and  np.isscalar(b):\n",
    "            a= int(a)\n",
    "            b = int(b)\n",
    "            a1 = self.table[a]\n",
    "            b1 = self.table[b]\n",
    "            c1 = self.add_string_code(a1, b1)\n",
    "            c, = np.where(self.table == c1)\n",
    "            return c[0]\n",
    "        elif not np.isscalar(a):\n",
    "            if np.isscalar(b):\n",
    "                raise ValueError(\"a, b must have same shape ( a:\",a.shape,\", b is scalar)\" )\n",
    "            else:\n",
    "                a_size = a.shape\n",
    "                b_size = b.shape\n",
    "                if  len(a_size) ==2 and  len(a_size)==2:\n",
    "                    if a_size[0] != b_size[0] or a_size[1] != b_size[1] :\n",
    "                        raise ValueError(\"a, b must have same shape ( a:\"+ str(a.shape) +\",  b:\"+str(b.shape)+ \")\" )\n",
    "                    else:\n",
    "                        c = np.zeros_like(a, np.uint8)\n",
    "                        for i in range(a_size[0]):\n",
    "                            for j in range(a_size[1]):\n",
    "                                c[i, j] = self.add(a[i, j], b[i, j])\n",
    "                        return c\n",
    "                elif len(a_size)==1 and len(b_size)==1 and a_size ==b_size :\n",
    "                    c = np.zeros_like(a, np.uint8)\n",
    "                    for i in range(a_size[0]):\n",
    "                        c[i] = self.add(a[i], b[i])\n",
    "                    return c\n",
    "                else:\n",
    "                    raise ValueError(\"a, b must have same shape ( a:\"+ str(a.shape) +\",  b:\"+str(b.shape)+ \")\" )         \n",
    "    def multi(self, a, b):\n",
    "        if  np.isscalar(a) and  np.isscalar(b):\n",
    "                if a ==0 or b == 0:\n",
    "                    return 0\n",
    "                else:\n",
    "                    c = (a+b-2) % (self.q-1)\n",
    "                    return c+1\n",
    "        elif not np.isscalar(a):\n",
    "            a_size = a.shape\n",
    "            if np.isscalar(b):\n",
    "                c = [self.multi(i, b) for i in a]\n",
    "                return np.array(c)\n",
    "            b_size = b.shape\n",
    "            if a_size[1] != b_size[0] :\n",
    "                raise ValueError(\"Can not multiply 2 matrix of dimension: \", a.shape, b.shape)\n",
    "            else:\n",
    "                c = np.zeros((a_size[0], b_size[1]), np.uint8)\n",
    "                for i in range(a_size[0]):\n",
    "                    for j in range(b_size[1]):\n",
    "                        for k in range(a_size[1]):\n",
    "                            c[i, j] =self.add(c[i, j], self.multi(a[i, k], b[k, j])) \n",
    "                return c\n",
    "    def make_sub_matrix(self, x):\n",
    "        N =  N = self.q -1\n",
    "        sub = np.zeros((N, N), np.uint8)\n",
    "        index = x-1\n",
    "        for i in range(N):\n",
    "            sub[i, index] = index+1\n",
    "            index +=1\n",
    "            if index ==N:\n",
    "                index =0\n",
    "        return sub\n",
    "    def reserve_e(self, a):\n",
    "            a2 = self.q+1-a\n",
    "            if a2 == self.q:\n",
    "                a2 = 1\n",
    "            if a2 == self.q+1:\n",
    "                a2 = 0\n",
    "            return a2\n",
    "    def Reserve_fast(self, X, show =False):\n",
    "        N = X.shape[0]\n",
    "        def make_I(n):\n",
    "                In = np.zeros((n, n), np.uint8)\n",
    "                for i in range(n):\n",
    "                    In[i, i] =1\n",
    "                return In\n",
    "        X1 = make_I(N)\n",
    "        for i in range(N):\n",
    "            if show:\n",
    "                print(i)\n",
    "            C = make_I(N)\n",
    "            for j in range(N):\n",
    "                C[j, i] = self.multi(X[j, i], self.reserve_e(X[i,i]))\n",
    "            C[i,i] = self.reserve_e(X[i,i])\n",
    "            X = self.multi(C,X)\n",
    "            X1 = self.multi(C,X1)\n",
    "        return X1\n",
    "    \n",
    "def Resever(X, gl32):\n",
    "    A = X.copy()\n",
    "    size= A.shape\n",
    "    if size[0]!=size[1]:\n",
    "        print(\"Maxtrix is not square!\")\n",
    "        return None\n",
    "    E = np.zeros_like(A)\n",
    "    for i in range(E.shape[0]):\n",
    "        E[i, i] =1\n",
    "        \n",
    "    def process_row( i, Ax, Ex):\n",
    "        A = Ax.copy()\n",
    "        E = Ex.copy()\n",
    "        for j in range(i):\n",
    "            if A[i, j]!=0:\n",
    "                x = gl32.reserve_e(A[i, j])\n",
    "                A[i] = gl32.multi(A[i], x)\n",
    "                E[i] = gl32.multi(E[i], x)\n",
    "                A[i] = gl32.add(A[i], A[j])\n",
    "                E[i] =  gl32.add(E[i],E[j])\n",
    "                \n",
    "        if A[i, i]>1:\n",
    "            x = gl32.reserve_e(A[i, i])\n",
    "            A[i] = gl32.multi(A[i], x)\n",
    "            E[i] = gl32.multi(E[i], x)\n",
    "        return A, E\n",
    "            \n",
    "    # Convert to up triangle matrix\n",
    "    i = 0\n",
    "    stt = 0\n",
    "    while i < size[0]:\n",
    "        A, E = process_row(i, A, E)\n",
    "        stt+=1\n",
    "        if A[i, i]==0:\n",
    "            if stt>size[0]-i+1:\n",
    "                print(\"matrix is not ivertable\")\n",
    "                return 0\n",
    "            A[i:-1], A[-1] = A[i+1:].copy(), A[i].copy()\n",
    "            E[i:-1], E[-1] = E[i+1:].copy(), E[i].copy()\n",
    "        else:\n",
    "            stt= 0\n",
    "            i+=1\n",
    "            \n",
    "    # Convert to E\n",
    "    for i in range(size[0]):\n",
    "        for j in range(i+1, size[1]):\n",
    "            if A[i, j]!=0:\n",
    "                for x in range(32):\n",
    "                    if gl32.multi(x, 1)==A[i, j]:\n",
    "                        A[i] = gl32.add(A[i] , gl32.multi(A[j], x))\n",
    "                        E[i] = gl32.add(E[i] , gl32.multi(E[j], x))\n",
    "                        break\n",
    "\n",
    "    return E\n",
    "\n",
    "def Rank(Zx, gl32):\n",
    "    Z = Zx.copy()\n",
    "    index = []\n",
    "    i =-1\n",
    "    stt = -1\n",
    "    while i <np.min(Zx.shape)-1 and Z.shape[0]>=np.min(Zx.shape):\n",
    "        i+=1\n",
    "        stt+=1\n",
    "        for j in range(i):\n",
    "            if Z[i, j]!=0:\n",
    "                x = 0\n",
    "                for k in range(32):\n",
    "                    if gl32.multi(k, Z[i, j])==Z[j, j]:\n",
    "                        x = k\n",
    "                        break  \n",
    "                Z[i] = gl32.multi(Z[i], x)\n",
    "                Z[i] = gl32.add(Z[i], Z[j])\n",
    "        ok = True\n",
    "        if Z[i, i]==0:\n",
    "            ok = False\n",
    "            for j in range(i+1, G):\n",
    "                if Z[i, j]!=0:\n",
    "                    Z[:,i], Z[:, j] = Z[:, j].copy(), Z[:, i].copy()\n",
    "                    ok = True\n",
    "                    break\n",
    "        if ok:\n",
    "            index.append(stt)\n",
    "        else:\n",
    "            Z = np.delete(Z, i, 0)\n",
    "            i-=1\n",
    "    return len(index), index"
   ]
  },
  {
   "cell_type": "code",
   "execution_count": 13,
   "metadata": {
    "ExecuteTime": {
     "end_time": "2020-07-03T00:52:45.719418Z",
     "start_time": "2020-07-03T00:52:45.697273Z"
    }
   },
   "outputs": [
    {
     "name": "stdout",
     "output_type": "stream",
     "text": [
      "[[ 0  5  9 15  2 11 14 10  3  8  6 13 12  7  4]\n",
      " [ 5  0  6 10  1  3 12 15 11  4  9  7 14 13  8]\n",
      " [ 9  6  0  7 11  2  4 13  1 12  5 10  8 15 14]\n",
      " [15 10  7  0  8 12  3  5 14  2 13  6 11  9  1]\n",
      " [ 2  1 11  8  0  9 13  4  6 15  3 14  7 12 10]\n",
      " [11  3  2 12  9  0 10 14  5  7  1  4 15  8 13]\n",
      " [14 12  4  3 13 10  0 11 15  6  8  2  5  1  9]\n",
      " [10 15 13  5  4 14 11  0 12  1  7  9  3  6  2]\n",
      " [ 3 11  1 14  6  5 15 12  0 13  2  8 10  4  7]\n",
      " [ 8  4 12  2 15  7  6  1 13  0 14  3  9 11  5]\n",
      " [ 6  9  5 13  3  1  8  7  2 14  0 15  4 10 12]\n",
      " [13  7 10  6 14  4  2  9  8  3 15  0  1  5 11]\n",
      " [12 14  8 11  7 15  5  3 10  9  4  1  0  2  6]\n",
      " [ 7 13 15  9 12  8  1  6  4 11 10  5  2  0  3]\n",
      " [ 4  8 14  1 10 13  9  2  7  5 12 11  6  3  0]]\n",
      "####################\n",
      "[[ 2 11 14 10  3  8  6 13 12  7  4]\n",
      " [ 1  3 12 15 11  4  9  7 14 13  8]\n",
      " [11  2  4 13  1 12  5 10  8 15 14]\n",
      " [ 8 12  3  5 14  2 13  6 11  9  1]]\n",
      "[[ 0  2  0 ...  0  0  0]\n",
      " [ 0  0  3 ...  0  0  0]\n",
      " [ 0  0  0 ...  0  0  0]\n",
      " ...\n",
      " [ 0  0  0 ... 13  0  0]\n",
      " [ 0  0  0 ...  0 14  0]\n",
      " [ 0  0  0 ...  0  0 15]]\n"
     ]
    }
   ],
   "source": [
    "gl32 = GF([4,  1, 0])\n",
    "N = gl32.q-1\n",
    "\n",
    "x = np.ones(N, np.uint8)\n",
    "y = np.arange(1, N+1)\n",
    "f0 = gl32.add(x, y)\n",
    "Q = np.zeros((N, N), np.uint8)\n",
    "Q[0] = f0.copy()\n",
    "for i in range(1, N):\n",
    "    Q[i] = np.roll(gl32.multi(Q[i-1], 2), 1)\n",
    "    \n",
    "    \n",
    "N1 = 4\n",
    "N2= 11\n",
    "\n",
    "\n",
    "    \n",
    "H_base = Q[:N1, N1:N2+N1]\n",
    "print(Q)\n",
    "print(\"#\"*20)\n",
    "print(H_base)\n",
    "H = np.zeros((N1*N, N2*N), np.int16)\n",
    "for i in range(N1):\n",
    "    for j in range(N2):\n",
    "        if H_base[i, j]!=0:\n",
    "            sub_matrix = gl32.make_sub_matrix(H_base[i, j])\n",
    "            H[i*N:(i+1)*N, j*N:(j+1)*N] = sub_matrix\n",
    "print(H)\n",
    "np.save(\"H16.npy\", H)"
   ]
  },
  {
   "cell_type": "code",
   "execution_count": 24,
   "metadata": {
    "ExecuteTime": {
     "end_time": "2020-05-11T13:19:00.825120Z",
     "start_time": "2020-05-11T13:19:00.813183Z"
    }
   },
   "outputs": [
    {
     "name": "stdout",
     "output_type": "stream",
     "text": [
      "13 35 0\n",
      "[[4. 0. 0. 0. 0. 0. 0. 0. 0. 0. 0. 0. 0.]\n",
      " [0. 6. 0. 0. 0. 0. 0. 0. 0. 0. 0. 0. 0.]\n",
      " [4. 0. 6. 0. 0. 0. 0. 0. 0. 0. 0. 0. 0.]\n",
      " [0. 0. 0. 1. 0. 0. 0. 0. 0. 0. 0. 0. 0.]\n",
      " [0. 6. 0. 0. 2. 0. 0. 0. 0. 0. 0. 0. 0.]\n",
      " [0. 0. 0. 1. 0. 5. 0. 0. 0. 0. 0. 0. 0.]\n",
      " [0. 0. 0. 0. 2. 0. 1. 0. 0. 0. 0. 0. 0.]\n",
      " [0. 0. 0. 0. 0. 0. 0. 3. 0. 0. 0. 0. 0.]\n",
      " [0. 0. 6. 0. 0. 0. 1. 0. 4. 0. 0. 0. 0.]\n",
      " [0. 0. 0. 0. 0. 0. 0. 0. 0. 2. 0. 0. 0.]\n",
      " [0. 0. 0. 0. 0. 5. 0. 0. 0. 0. 6. 0. 0.]\n",
      " [0. 0. 0. 0. 0. 0. 0. 3. 0. 2. 0. 5. 0.]\n",
      " [0. 0. 0. 0. 0. 0. 0. 0. 4. 0. 0. 0. 3.]]\n"
     ]
    }
   ],
   "source": [
    "M = H.shape[0]\n",
    "N = H.shape[1]\n",
    "G = 0\n",
    "print(M, N, G)\n",
    "T = Ht[:M-G,N-M+G:]\n",
    "print(T)\n",
    "T2 = Resever(T, gl32)\n",
    "E = Ht[M-G:,N-M+G:]"
   ]
  },
  {
   "cell_type": "code",
   "execution_count": 25,
   "metadata": {
    "ExecuteTime": {
     "end_time": "2020-05-11T13:19:01.007057Z",
     "start_time": "2020-05-11T13:19:00.990074Z"
    }
   },
   "outputs": [
    {
     "name": "stdout",
     "output_type": "stream",
     "text": [
      "[[1 0 0 0 0 0 0 0 0 0 0 0 0]\n",
      " [0 1 0 0 0 0 0 0 0 0 0 0 0]\n",
      " [0 0 1 0 0 0 0 0 0 0 0 0 0]\n",
      " [0 0 0 1 0 0 0 0 0 0 0 0 0]\n",
      " [0 0 0 0 1 0 0 0 0 0 0 0 0]\n",
      " [0 0 0 0 0 1 0 0 0 0 0 0 0]\n",
      " [0 0 0 0 0 0 1 0 0 0 0 0 0]\n",
      " [0 0 0 0 0 0 0 1 0 0 0 0 0]\n",
      " [0 0 0 0 0 0 0 0 1 0 0 0 0]\n",
      " [0 0 0 0 0 0 0 0 0 1 0 0 0]\n",
      " [0 0 0 0 0 0 0 0 0 0 1 0 0]\n",
      " [0 0 0 0 0 0 0 0 0 0 0 1 0]\n",
      " [0 0 0 0 0 0 0 0 0 0 0 0 1]]\n"
     ]
    }
   ],
   "source": [
    "print(gl32.multi(T, T2))"
   ]
  },
  {
   "cell_type": "code",
   "execution_count": 26,
   "metadata": {
    "ExecuteTime": {
     "end_time": "2020-05-11T13:19:01.178665Z",
     "start_time": "2020-05-11T13:19:01.171648Z"
    }
   },
   "outputs": [],
   "source": [
    "savetxt(\"Ht.txt\",Ht.astype(np.uint8));\n",
    "savetxt(\"T.txt\",T.astype(np.uint8));\n",
    "savetxt(\"E.txt\",E.astype(np.uint8));"
   ]
  },
  {
   "cell_type": "code",
   "execution_count": 27,
   "metadata": {
    "ExecuteTime": {
     "end_time": "2020-05-11T13:19:01.341902Z",
     "start_time": "2020-05-11T13:19:01.333922Z"
    }
   },
   "outputs": [
    {
     "name": "stdout",
     "output_type": "stream",
     "text": [
      "[]\n"
     ]
    }
   ],
   "source": [
    "X = Ht[:M-G, :N+G-M]\n",
    "Y = Ht[M-G:, :N+G-M]\n",
    "savetxt(\"X.txt\",X.astype(np.uint8));\n",
    "savetxt(\"Y.txt\",Y.astype(np.uint8));\n",
    "ET2 = gl32.multi(E, T2)\n",
    "print(ET2)\n",
    "ET2XY  = gl32.add(gl32.multi(ET2, X), Y)"
   ]
  },
  {
   "cell_type": "code",
   "execution_count": 28,
   "metadata": {
    "ExecuteTime": {
     "end_time": "2020-05-11T13:19:01.504281Z",
     "start_time": "2020-05-11T13:19:01.500292Z"
    }
   },
   "outputs": [],
   "source": [
    "Z = ET2XY.transpose().copy()\n",
    "savetxt(\"Z.txt\",Z.astype(np.uint8));\n",
    "rank , index = Rank(Z, gl32)"
   ]
  },
  {
   "cell_type": "code",
   "execution_count": 29,
   "metadata": {
    "ExecuteTime": {
     "end_time": "2020-05-11T13:19:01.665019Z",
     "start_time": "2020-05-11T13:19:01.661030Z"
    }
   },
   "outputs": [
    {
     "name": "stdout",
     "output_type": "stream",
     "text": [
      "[]\n"
     ]
    }
   ],
   "source": [
    "print(index)"
   ]
  },
  {
   "cell_type": "code",
   "execution_count": 30,
   "metadata": {
    "ExecuteTime": {
     "end_time": "2020-05-11T13:19:01.851662Z",
     "start_time": "2020-05-11T13:19:01.845650Z"
    }
   },
   "outputs": [],
   "source": [
    "Htd = Ht.copy()\n",
    "Htd[:, N-M:N-M+G], Htd[:, index] = Ht[:, index], Ht[:, N-M:N-M+G]\n",
    "savetxt(\"Htd.txt\", Htd.astype(np.uint8));"
   ]
  },
  {
   "cell_type": "code",
   "execution_count": 31,
   "metadata": {
    "ExecuteTime": {
     "end_time": "2020-05-11T13:19:02.020182Z",
     "start_time": "2020-05-11T13:19:02.013167Z"
    }
   },
   "outputs": [],
   "source": [
    "A = Htd[:M-G,:N-M]\n",
    "B = Htd[:M-G, N-M:N-M+G]\n",
    "C = Htd[M-G:, :N-M]\n",
    "D = Htd[M-G:, N-M:N-M+G]\n",
    "# np.save(\"Htd.npy\", Htd)\n",
    "# np.save(\"A.npy\", A)\n",
    "# np.save(\"B.npy\", B)\n",
    "# np.save(\"T.npy\", T)\n",
    "# np.save(\"C.npy\", C)\n",
    "# np.save(\"D.npy\", D)\n",
    "# np.save(\"E.npy\", E)\n",
    "\n",
    "np.savetxt(\"D.txt\",D.astype(np.uint8),fmt='%i', delimiter=',');"
   ]
  },
  {
   "cell_type": "code",
   "execution_count": 32,
   "metadata": {
    "ExecuteTime": {
     "end_time": "2020-05-11T13:19:02.199991Z",
     "start_time": "2020-05-11T13:19:02.192044Z"
    }
   },
   "outputs": [
    {
     "name": "stdout",
     "output_type": "stream",
     "text": [
      "[]\n"
     ]
    }
   ],
   "source": [
    "C2 =gl32.add(gl32.multi(gl32.multi(E, T2), A), C)\n",
    "D2 =gl32.add(gl32.multi(gl32.multi(E, T2), B), D)\n",
    "print(D2)\n",
    "np.savetxt(\"D2.txt\",D2.astype(np.uint8),fmt='%i', delimiter=',');\n",
    "D3 = Resever(D2, gl32)\n",
    "np.savetxt(\"D3.txt\",D3.astype(np.uint8),fmt='%i', delimiter=',');\n",
    "D3C2 = gl32.multi(D3, C2)\n",
    "np.savetxt(\"D3C2.txt\",D3C2.astype(np.uint8),fmt='%i', delimiter=',');"
   ]
  },
  {
   "cell_type": "code",
   "execution_count": 33,
   "metadata": {
    "ExecuteTime": {
     "end_time": "2020-05-11T13:19:02.406643Z",
     "start_time": "2020-05-11T13:19:02.372726Z"
    }
   },
   "outputs": [],
   "source": [
    "BD3C2 = gl32.multi(B, D3C2)\n",
    "ABD3C2 = gl32.add(A, BD3C2)\n",
    "T2ABD3C2 = gl32.multi(T2,ABD3C2)"
   ]
  },
  {
   "cell_type": "code",
   "execution_count": 34,
   "metadata": {
    "ExecuteTime": {
     "end_time": "2020-05-11T13:19:02.560090Z",
     "start_time": "2020-05-11T13:19:02.548148Z"
    }
   },
   "outputs": [
    {
     "name": "stdout",
     "output_type": "stream",
     "text": [
      "[[5]\n",
      " [6]\n",
      " [0]\n",
      " [1]\n",
      " [4]\n",
      " [0]\n",
      " [6]\n",
      " [2]\n",
      " [0]\n",
      " [6]\n",
      " [4]\n",
      " [7]\n",
      " [0]\n",
      " [1]\n",
      " [4]\n",
      " [0]\n",
      " [2]\n",
      " [5]\n",
      " [2]\n",
      " [6]\n",
      " [1]\n",
      " [4]\n",
      " [6]\n",
      " [1]\n",
      " [3]\n",
      " [1]\n",
      " [3]\n",
      " [1]\n",
      " [2]\n",
      " [1]\n",
      " [0]\n",
      " [4]\n",
      " [0]\n",
      " [1]\n",
      " [6]]\n",
      "[[7]\n",
      " [4]\n",
      " [5]\n",
      " [2]\n",
      " [5]\n",
      " [6]\n",
      " [2]\n",
      " [3]\n",
      " [3]\n",
      " [2]\n",
      " [2]\n",
      " [0]\n",
      " [1]\n",
      " [4]\n",
      " [3]\n",
      " [4]\n",
      " [1]\n",
      " [1]\n",
      " [7]\n",
      " [6]\n",
      " [1]\n",
      " [5]\n",
      " [0]\n",
      " [1]\n",
      " [0]\n",
      " [5]\n",
      " [1]\n",
      " [7]\n",
      " [1]\n",
      " [2]\n",
      " [2]\n",
      " [7]\n",
      " [7]\n",
      " [2]\n",
      " [1]]\n",
      "##############################\n",
      "[[0]\n",
      " [0]\n",
      " [0]\n",
      " [0]\n",
      " [0]\n",
      " [0]\n",
      " [0]\n",
      " [0]\n",
      " [0]\n",
      " [0]\n",
      " [0]\n",
      " [0]\n",
      " [0]]\n"
     ]
    }
   ],
   "source": [
    "u = np.random.randint(0, gl32.q, H.shape[1] - H.shape[0]).reshape(N-M, 1)\n",
    "p1 = gl32.multi(D3C2, u)\n",
    "Au = gl32.multi(A, u)\n",
    "Bp1 = gl32.multi(B, p1)\n",
    "p2 = gl32.multi(T2, gl32.add(Au, Bp1))\n",
    "print(y0)\n",
    "y0 = np.concatenate((u, p1, p2))\n",
    "y = np.zeros_like(y0)\n",
    "y[sub.astype(np.uint8)] = y0\n",
    "print(y)\n",
    "print(\"#\"*30)\n",
    "print(gl32.multi(H0, y))"
   ]
  },
  {
   "cell_type": "code",
   "execution_count": 35,
   "metadata": {
    "ExecuteTime": {
     "end_time": "2020-05-11T13:19:02.757287Z",
     "start_time": "2020-05-11T13:19:02.742331Z"
    }
   },
   "outputs": [
    {
     "name": "stdout",
     "output_type": "stream",
     "text": [
      "(0, 22)\n",
      "(13, 22)\n",
      "[25. 24. 34. 22. 27. 23.  6.  7.  8.  9. 10. 32. 12. 13. 14. 15. 16. 17.\n",
      " 18. 19. 20. 21.  3.  5. 26. 28. 29.  4.  0. 30. 31.  1. 33. 11.  2.]\n",
      "[[7]\n",
      " [4]\n",
      " [5]\n",
      " [2]\n",
      " [5]\n",
      " [6]\n",
      " [2]\n",
      " [3]\n",
      " [3]\n",
      " [2]\n",
      " [2]\n",
      " [0]\n",
      " [1]\n",
      " [4]\n",
      " [3]\n",
      " [4]\n",
      " [1]\n",
      " [1]\n",
      " [7]\n",
      " [6]\n",
      " [1]\n",
      " [5]\n",
      " [0]\n",
      " [1]\n",
      " [0]\n",
      " [5]\n",
      " [1]\n",
      " [7]\n",
      " [1]\n",
      " [2]\n",
      " [2]\n",
      " [7]\n",
      " [7]\n",
      " [2]\n",
      " [1]]\n",
      "##############################\n",
      "[[0]\n",
      " [0]\n",
      " [0]\n",
      " [0]\n",
      " [0]\n",
      " [0]\n",
      " [0]\n",
      " [0]\n",
      " [0]\n",
      " [0]\n",
      " [0]\n",
      " [0]\n",
      " [0]]\n"
     ]
    }
   ],
   "source": [
    "print(D3C2.shape)\n",
    "print(T2ABD3C2.shape)\n",
    "G = np.concatenate((D3C2, T2ABD3C2))\n",
    "savetxt(\"G.txt\", G)\n",
    "p = gl32.multi(G, u)\n",
    "y0 = np.concatenate((u, p))\n",
    "y = np.zeros_like(y0)\n",
    "y[sub.astype(np.uint8)] = y0\n",
    "print(sub)\n",
    "print(y)\n",
    "print(\"#\"*30)\n",
    "print(gl32.multi(H0, y))"
   ]
  },
  {
   "cell_type": "code",
   "execution_count": 36,
   "metadata": {
    "ExecuteTime": {
     "end_time": "2020-05-11T13:19:03.347407Z",
     "start_time": "2020-05-11T13:19:03.342383Z"
    }
   },
   "outputs": [],
   "source": [
    "np.save(\"G.npy\", G)\n",
    "np.save(\"sub.npy\", sub.astype(np.uint8))\n",
    "np.save(\"H.npy\", H0)"
   ]
  },
  {
   "cell_type": "code",
   "execution_count": 37,
   "metadata": {
    "ExecuteTime": {
     "end_time": "2020-05-11T13:19:04.280875Z",
     "start_time": "2020-05-11T13:19:04.276886Z"
    }
   },
   "outputs": [
    {
     "name": "stdout",
     "output_type": "stream",
     "text": [
      "Maxtrix is not square!\n"
     ]
    }
   ],
   "source": [
    "G2 = Resever(G, gl32)"
   ]
  },
  {
   "cell_type": "code",
   "execution_count": null,
   "metadata": {
    "ExecuteTime": {
     "end_time": "2020-04-04T08:57:32.750697Z",
     "start_time": "2020-04-04T08:57:32.745710Z"
    },
    "code_folding": [
     0
    ]
   },
   "outputs": [],
   "source": [
    "for row in G:\n",
    "    S = \"(\"\n",
    "    for e in row:\n",
    "        S+=str(e)\n",
    "        S+=\", \"\n",
    "    S = S[:-2]\n",
    "    S+=\"),\"\n",
    "    print(S)"
   ]
  },
  {
   "cell_type": "code",
   "execution_count": null,
   "metadata": {
    "ExecuteTime": {
     "end_time": "2020-04-04T08:57:36.766734Z",
     "start_time": "2020-04-04T08:57:36.762744Z"
    }
   },
   "outputs": [],
   "source": [
    "s = \"(\"\n",
    "for i in u:\n",
    "    s+=str(i[0])+\", \"\n",
    "s+=\")\"\n",
    "print(s)"
   ]
  },
  {
   "cell_type": "code",
   "execution_count": null,
   "metadata": {},
   "outputs": [],
   "source": [
    "pi = 0\n",
    "stt = 0\n",
    "for i in range(726):\n",
    "    pi=gl32.add(pi, gl32.multi(u[i][0], G[stt,i]))\n",
    "    print(u[i][0], G[stt,i], pi)"
   ]
  },
  {
   "cell_type": "code",
   "execution_count": null,
   "metadata": {},
   "outputs": [],
   "source": [
    "print(p)"
   ]
  },
  {
   "cell_type": "code",
   "execution_count": null,
   "metadata": {
    "ExecuteTime": {
     "end_time": "2020-02-19T07:05:43.725482Z",
     "start_time": "2020-02-19T07:05:43.712523Z"
    }
   },
   "outputs": [],
   "source": [
    "def nhan_hang(A, i, a):\n",
    "    K = np.zeros_like(A)\n",
    "    for j in range(A.shape[0]):\n",
    "        K[j, j] = a if j==i-1 else 1\n",
    "    return K\n",
    "\n",
    "def doi_hang(A, i, j):\n",
    "    K = np.zeros_like(A)\n",
    "    for k in range(A.shape[0]):\n",
    "        K[k, k] = 1\n",
    "    K[i-1, i-1] = 0\n",
    "    K[j-1, j-1] = 0\n",
    "    K[i-1, j-1]= 1\n",
    "    K[j-1, i-1] = 1\n",
    "    return K\n",
    "\n",
    "def cong_hang(A, a, i, j):\n",
    "    K = np.zeros_like(A)\n",
    "    for k in range(A.shape[0]):\n",
    "        K[k, k] = 1\n",
    "    K[j-1, i-1] = a\n",
    "    return K"
   ]
  },
  {
   "cell_type": "code",
   "execution_count": null,
   "metadata": {
    "ExecuteTime": {
     "end_time": "2020-02-19T07:09:52.887411Z",
     "start_time": "2020-02-19T07:09:52.831561Z"
    }
   },
   "outputs": [],
   "source": [
    "A = np.array([\n",
    "    [2, 0, 1, 0],\n",
    "    [0, 1, 0, 0],\n",
    "    [0, 0, 1, 2],\n",
    "    [0, 1, 0, 2]\n",
    "])\n",
    "K1 = nhan_hang(A, 1, 31)\n",
    "K = K1.copy()\n",
    "A = gl32.multi(K1, A)\n",
    "print(A)\n",
    "print(\"#\"*20)\n",
    "K2 = cong_hang(A, 1, 2, 4)\n",
    "K = gl32.multi(K2, K)\n",
    "A = gl32.multi(K2, A)\n",
    "print(A)\n",
    "print(\"#\"*20)\n",
    "K3 = nhan_hang(A, 4, 31)\n",
    "K = gl32.multi(K3, K)\n",
    "A = gl32.multi(K3, A)\n",
    "print(A)\n",
    "print(\"#\"*20)\n",
    "K4 = cong_hang(A, 31, 3, 1)\n",
    "K = gl32.multi(K4, K)\n",
    "A = gl32.multi(K4, A)\n",
    "print(A)\n",
    "print(\"#\"*20)\n",
    "K5 = cong_hang(A, 1, 4, 1)\n",
    "K = gl32.multi(K5, K)\n",
    "A = gl32.multi(K5, A)\n",
    "print(A)\n",
    "print(\"#\"*20)\n",
    "K6 = cong_hang(A, 2, 4, 3)\n",
    "K = gl32.multi(K6, K)\n",
    "A = gl32.multi(K6, A)\n",
    "print(A)\n",
    "print(\"#\"*20)\n"
   ]
  },
  {
   "cell_type": "code",
   "execution_count": null,
   "metadata": {
    "ExecuteTime": {
     "end_time": "2020-02-19T07:10:54.762415Z",
     "start_time": "2020-02-19T07:10:54.748056Z"
    }
   },
   "outputs": [],
   "source": [
    "A = np.array([\n",
    "    [2, 0, 1, 0],\n",
    "    [0, 1, 0, 0],\n",
    "    [0, 0, 1, 2],\n",
    "    [0, 1, 0, 2]\n",
    "])\n",
    "A2 = gl32.multi(A, K)\n",
    "print(K)\n",
    "print(A2)"
   ]
  },
  {
   "cell_type": "code",
   "execution_count": null,
   "metadata": {
    "ExecuteTime": {
     "end_time": "2020-04-04T08:57:57.950483Z",
     "start_time": "2020-04-04T08:57:57.946493Z"
    }
   },
   "outputs": [],
   "source": [
    "print(gl32.table)"
   ]
  },
  {
   "cell_type": "code",
   "execution_count": null,
   "metadata": {},
   "outputs": [],
   "source": [
    "print(gl32.add(2, 19))"
   ]
  },
  {
   "cell_type": "code",
   "execution_count": null,
   "metadata": {},
   "outputs": [],
   "source": [
    "for a in range(32):\n",
    "    print(\"#\"*20)\n",
    "    print(a)\n",
    "    for i in range(32):\n",
    "        for j in range(i+1, 32):\n",
    "            if gl32.add(i,j)==a:\n",
    "                print(i, \"+\", j)"
   ]
  }
 ],
 "metadata": {
  "kernelspec": {
   "display_name": "Environment (conda_de_lai)",
   "language": "python",
   "name": "conda_de_lai"
  },
  "language_info": {
   "codemirror_mode": {
    "name": "ipython",
    "version": 3
   },
   "file_extension": ".py",
   "mimetype": "text/x-python",
   "name": "python",
   "nbconvert_exporter": "python",
   "pygments_lexer": "ipython3",
   "version": "3.6.10"
  }
 },
 "nbformat": 4,
 "nbformat_minor": 4
}
